{
  "cells": [
    {
      "cell_type": "markdown",
      "metadata": {
        "id": "view-in-github",
        "colab_type": "text"
      },
      "source": [
        "<a href=\"https://colab.research.google.com/github/MarcelZelent/DL_2024/blob/main/Exercise2_1.ipynb\" target=\"_parent\"><img src=\"https://colab.research.google.com/assets/colab-badge.svg\" alt=\"Open In Colab\"/></a>"
      ]
    },
    {
      "cell_type": "markdown",
      "metadata": {
        "id": "HAva8TnYFtFu"
      },
      "source": [
        "# Contents and why we need this lab\n",
        "\n",
        "This lab is about implementing neural networks yourself before we start using other frameworks that hide some of the computation from you. It builds on the first lab, where you derived the equations for neural network forward and backward propagation and gradient descent parameter updates.\n",
        "\n",
        "All the frameworks for deep learning you will meet from now on use automatic differentiation (autodiff), so you do not have to code the backward step yourself. In this version of this lab, you will develop your own autodif implementation. We also have an optional [version](https://github.com/DeepLearningDTU/02456-deep-learning-with-PyTorch/blob/master/2_Feedforward_Python/2.2-FNN-NumPy.ipynb) of this lab where you have to code the backward pass explicitly in Numpy."
      ]
    },
    {
      "cell_type": "markdown",
      "metadata": {
        "id": "sCa7HzwpFtFy"
      },
      "source": [
        "# External sources of information\n",
        "\n",
        "1. Jupyter notebook. You can find more information about Jupyter notebooks [here](https://jupyter.org/). It will come as part of the [Anaconda](https://www.anaconda.com/) Python installation.\n",
        "2. [NumPy](https://numpy.org/). Part of Anaconda distribution.  If you already know how to program, most things about Python and NumPy can be found with Google searches.\n",
        "3. [Nanograd](https://github.com/rasmusbergpalm/nanograd) is a minimalistic version of autodiff developed by Rasmus Berg Palm that we use for our framework.\n"
      ]
    },
    {
      "cell_type": "markdown",
      "metadata": {
        "id": "1SjiIp-TFtF0"
      },
      "source": [
        "# This notebook will follow the next steps:\n",
        "\n",
        "1. Nanograd automatic differentiation framework\n",
        "2. Finite difference method\n",
        "3. Data generation\n",
        "4. Defining and initializing the network\n",
        "5. Forward pass\n",
        "6. Training loop\n",
        "7. Testing your model\n",
        "8. Further extensions"
      ]
    },
    {
      "cell_type": "markdown",
      "metadata": {
        "id": "OyXeAA-HuT7s"
      },
      "source": [
        "# Nanograd automatic differention framework"
      ]
    },
    {
      "cell_type": "markdown",
      "metadata": {
        "id": "k6UWKCLKubgA"
      },
      "source": [
        "The [Nanograd](https://github.com/rasmusbergpalm/nanograd) framework defines a class Var which both holds a value and gradient value that we can use to store the intermediate values when we apply the chain rule of differentiation."
      ]
    },
    {
      "cell_type": "code",
      "execution_count": 1,
      "metadata": {
        "id": "Jd4CoEBNzNWS"
      },
      "outputs": [],
      "source": [
        "# Copy and pasted from https://github.com/rasmusbergpalm/nanograd/blob/3a1bf9e9e724da813bfccf91a6f309abdade9f39/nanograd.py\n",
        "\n",
        "from math import exp, log\n",
        "from math import tanh as th\n",
        "\n",
        "class Var:\n",
        "    \"\"\"\n",
        "    A variable which holds a float and enables gradient computations.\n",
        "    \"\"\"\n",
        "\n",
        "    def __init__(self, val: float, grad_fn=lambda: []):\n",
        "        assert type(val) == float\n",
        "        self.v = val\n",
        "        self.grad_fn = grad_fn\n",
        "        self.grad = 0.0\n",
        "\n",
        "    def backprop(self, bp):\n",
        "        self.grad += bp\n",
        "        for input, grad in self.grad_fn():\n",
        "            input.backprop(grad * bp)\n",
        "\n",
        "    def backward(self):\n",
        "        self.backprop(1.0)\n",
        "\n",
        "    def __add__(self: 'Var', other: 'Var') -> 'Var':\n",
        "        return Var(self.v + other.v, lambda: [(self, 1.0), (other, 1.0)])\n",
        "\n",
        "    def __mul__(self: 'Var', other: 'Var') -> 'Var':\n",
        "        return Var(self.v * other.v, lambda: [(self, other.v), (other, self.v)])\n",
        "\n",
        "    def __pow__(self, power):\n",
        "        assert type(power) in {float, int}, \"power must be float or int\"\n",
        "        return Var(self.v ** power, lambda: [(self, power * self.v ** (power - 1))])\n",
        "\n",
        "    def __neg__(self: 'Var') -> 'Var':\n",
        "        return Var(-1.0) * self\n",
        "\n",
        "    def __sub__(self: 'Var', other: 'Var') -> 'Var':\n",
        "        return self + (-other)\n",
        "\n",
        "    def __truediv__(self: 'Var', other: 'Var') -> 'Var':\n",
        "        return self * other ** -1\n",
        "\n",
        "    def __repr__(self):\n",
        "        return \"Var(v=%.4f, grad=%.4f)\" % (self.v, self.grad)\n",
        "\n",
        "    def relu(self):\n",
        "        return Var(self.v if self.v > 0.0 else 0.0, lambda: [(self, 1.0 if self.v > 0.0 else 0.0)])\n",
        "\n",
        "    def identity(self):\n",
        "        return Var(self.v, lambda: [(self, 1.0)])\n",
        "\n",
        "    def sigmoid(self):\n",
        "        return Var(1.0 / (1.0 + exp(-self.v)), lambda: [(self, (1.0 / (1.0 + exp(-self.v)))*(1 - (1.0 / (1.0 + exp(-self.v)))))])\n",
        "\n",
        "    def tanh(self):\n",
        "        return Var(th(self.v), lambda: [(self, 1.0 - th(self.v) ** 2)])\n",
        "\n",
        "    def exp(self):\n",
        "        return Var(exp(self.v), lambda: [(self, exp(self.v))])\n",
        "\n",
        "    def log(self):\n",
        "        return Var(log(self.v), lambda: [(self, self.v ** -1)])"
      ]
    },
    {
      "cell_type": "markdown",
      "metadata": {
        "id": "yDX67D6jzcte"
      },
      "source": [
        "A few examples illustrate how we can use this:"
      ]
    },
    {
      "cell_type": "code",
      "execution_count": 2,
      "metadata": {
        "colab": {
          "base_uri": "https://localhost:8080/"
        },
        "id": "xk6PeLc3zwPT",
        "outputId": "a4d51bdf-7b79-4223-db71-635640b34bad"
      },
      "outputs": [
        {
          "output_type": "stream",
          "name": "stdout",
          "text": [
            "Var(v=3.0000, grad=5.0000)\n",
            "Var(v=5.0000, grad=3.0000)\n",
            "Var(v=15.0000, grad=1.0000)\n"
          ]
        }
      ],
      "source": [
        "a = Var(3.0)\n",
        "b = Var(5.0)\n",
        "f = a * b\n",
        "\n",
        "f.backward()\n",
        "\n",
        "for v in [a, b, f]:\n",
        "    print(v)"
      ]
    },
    {
      "cell_type": "code",
      "execution_count": 3,
      "metadata": {
        "colab": {
          "base_uri": "https://localhost:8080/"
        },
        "id": "JmKhYgsY0g_o",
        "outputId": "a1a9ddca-48eb-4858-f924-5639df7b9408"
      },
      "outputs": [
        {
          "output_type": "stream",
          "name": "stdout",
          "text": [
            "Var(v=3.0000, grad=14.0000)\n",
            "Var(v=5.0000, grad=3.0000)\n",
            "Var(v=15.0000, grad=1.0000)\n",
            "Var(v=9.0000, grad=3.0000)\n",
            "Var(v=27.0000, grad=1.0000)\n",
            "Var(v=42.0000, grad=1.0000)\n"
          ]
        }
      ],
      "source": [
        "a = Var(3.0)\n",
        "b = Var(5.0)\n",
        "c = a * b\n",
        "d = Var(9.0)\n",
        "e = a * d\n",
        "f = c + e\n",
        "\n",
        "f.backward()\n",
        "\n",
        "for v in [a, b, c, d, e, f]:\n",
        "    print(v)"
      ]
    },
    {
      "cell_type": "markdown",
      "metadata": {
        "id": "Fe3B6uEH140p"
      },
      "source": [
        "## Exercise a) What is being calculated?\n",
        "\n",
        "Explain briefly the output of the code? What is the expression we differentiate and with respect to what variables?"
      ]
    },
    {
      "cell_type": "markdown",
      "source": [
        "Answer:\n",
        "\n",
        "After defining the \"a\" and \"b\" using the Var class, their gradients are 0. Then, we make a new Var by multiplying them, where the value of that Var will be a times b, and the grad = 0. However, it will also have something in the grad_fn: tuples containing the Vars themselves and also the value of the Var. So in the first case, we have f = a times b, where a=3, b=5. Thus the grad_fn of f is going to be = [a, 5] [b, 3].\n",
        "\n",
        "\n"
      ],
      "metadata": {
        "id": "RVAHPE0GyPvM"
      }
    },
    {
      "cell_type": "markdown",
      "metadata": {
        "id": "q8_Q0t2I3Ruj"
      },
      "source": [
        "## Exercise b) How does the backward function work?\n",
        "\n",
        "You need to understand how the backward function calculates the gradients. We can use the two examples above to help with that.\n",
        "\n",
        "Go through the following four steps and answer the questions on the way:\n",
        "\n",
        "1. We represent the two expressions as graphs as shown below. Fill in the missing expressions for the different derivatives.\n",
        "\n",
        "2. In the remainder consider the first expression. Make a schematic of the data structure which is generated when we define the expression for f.\n",
        "\n",
        "3. Then execute the backward function by hand to convince yourself that it indeed calculates the gradients with respect to the variables.\n",
        "\n",
        "4. Write down the sequence of calls to backprop."
      ]
    },
    {
      "cell_type": "code",
      "execution_count": 4,
      "metadata": {
        "id": "idGr71jYXl26"
      },
      "outputs": [],
      "source": [
        "# import logging\n",
        "import graphviz\n",
        "\n",
        "#logging.basicConfig(format='[%(levelname)s@%(name)s] %(message)s', level=logging.DEBUG)\n",
        "\n",
        "#graphviz.__version__, graphviz.version()"
      ]
    },
    {
      "cell_type": "code",
      "execution_count": 5,
      "metadata": {
        "colab": {
          "base_uri": "https://localhost:8080/",
          "height": 152
        },
        "id": "KPe30Q2QXzeG",
        "outputId": "aa8d5912-55ac-4445-be03-20cf4a526e7e"
      },
      "outputs": [
        {
          "output_type": "execute_result",
          "data": {
            "image/svg+xml": "<?xml version=\"1.0\" encoding=\"UTF-8\" standalone=\"no\"?>\n<!DOCTYPE svg PUBLIC \"-//W3C//DTD SVG 1.1//EN\"\n \"http://www.w3.org/Graphics/SVG/1.1/DTD/svg11.dtd\">\n<!-- Generated by graphviz version 2.43.0 (0)\n -->\n<!-- Title: first expression Pages: 1 -->\n<svg width=\"179pt\" height=\"98pt\"\n viewBox=\"0.00 0.00 179.00 98.00\" xmlns=\"http://www.w3.org/2000/svg\" xmlns:xlink=\"http://www.w3.org/1999/xlink\">\n<g id=\"graph0\" class=\"graph\" transform=\"scale(1 1) rotate(0) translate(4 94)\">\n<title>first expression</title>\n<polygon fill=\"white\" stroke=\"transparent\" points=\"-4,4 -4,-94 175,-94 175,4 -4,4\"/>\n<!-- a -->\n<g id=\"node1\" class=\"node\">\n<title>a</title>\n<ellipse fill=\"none\" stroke=\"black\" cx=\"18\" cy=\"-72\" rx=\"18\" ry=\"18\"/>\n<text text-anchor=\"middle\" x=\"18\" y=\"-68.3\" font-family=\"Times,serif\" font-size=\"14.00\">a</text>\n</g>\n<!-- f -->\n<g id=\"node2\" class=\"node\">\n<title>f</title>\n<ellipse fill=\"none\" stroke=\"black\" cx=\"153\" cy=\"-45\" rx=\"18\" ry=\"18\"/>\n<text text-anchor=\"middle\" x=\"153\" y=\"-41.3\" font-family=\"Times,serif\" font-size=\"14.00\">f</text>\n</g>\n<!-- a&#45;&gt;f -->\n<g id=\"edge1\" class=\"edge\">\n<title>a&#45;&gt;f</title>\n<path fill=\"none\" stroke=\"black\" d=\"M35.84,-68.58C58.43,-64 98.77,-55.81 125.46,-50.39\"/>\n<polygon fill=\"black\" stroke=\"black\" points=\"126.19,-53.81 135.29,-48.39 124.8,-46.95 126.19,-53.81\"/>\n<text text-anchor=\"middle\" x=\"85.5\" y=\"-67.8\" font-family=\"Times,serif\" font-size=\"14.00\">df/da=b (5)</text>\n</g>\n<!-- b -->\n<g id=\"node3\" class=\"node\">\n<title>b</title>\n<ellipse fill=\"none\" stroke=\"black\" cx=\"18\" cy=\"-18\" rx=\"18\" ry=\"18\"/>\n<text text-anchor=\"middle\" x=\"18\" y=\"-14.3\" font-family=\"Times,serif\" font-size=\"14.00\">b</text>\n</g>\n<!-- b&#45;&gt;f -->\n<g id=\"edge2\" class=\"edge\">\n<title>b&#45;&gt;f</title>\n<path fill=\"none\" stroke=\"black\" d=\"M36.18,-19.69C55.89,-21.84 89.09,-26.14 117,-33 120.02,-33.74 123.15,-34.63 126.24,-35.59\"/>\n<polygon fill=\"black\" stroke=\"black\" points=\"125.2,-38.93 135.8,-38.77 127.42,-32.29 125.2,-38.93\"/>\n<text text-anchor=\"middle\" x=\"85.5\" y=\"-36.8\" font-family=\"Times,serif\" font-size=\"14.00\">df/db=a (3)</text>\n</g>\n</g>\n</svg>\n",
            "text/plain": [
              "<graphviz.graphs.Digraph at 0x7c8387de0940>"
            ]
          },
          "metadata": {},
          "execution_count": 5
        }
      ],
      "source": [
        "e1 = graphviz.Digraph('first expression', filename='fsm.gv')\n",
        "\n",
        "e1.attr(rankdir='LR', size='8,5')\n",
        "\n",
        "e1.attr('node', shape='circle')\n",
        "e1.edge('a', 'f', label='df/da=b (5)')\n",
        "e1.edge('b', 'f', label='df/db=a (3)')\n",
        "\n",
        "e1"
      ]
    },
    {
      "cell_type": "code",
      "execution_count": 6,
      "metadata": {
        "colab": {
          "base_uri": "https://localhost:8080/",
          "height": 232
        },
        "id": "0nittR-mZFeX",
        "outputId": "66e67cbb-6290-4a0a-e428-3f942336fcfb"
      },
      "outputs": [
        {
          "output_type": "execute_result",
          "data": {
            "image/svg+xml": "<?xml version=\"1.0\" encoding=\"UTF-8\" standalone=\"no\"?>\n<!DOCTYPE svg PUBLIC \"-//W3C//DTD SVG 1.1//EN\"\n \"http://www.w3.org/Graphics/SVG/1.1/DTD/svg11.dtd\">\n<!-- Generated by graphviz version 2.43.0 (0)\n -->\n<!-- Title: second expression Pages: 1 -->\n<svg width=\"314pt\" height=\"158pt\"\n viewBox=\"0.00 0.00 314.00 158.00\" xmlns=\"http://www.w3.org/2000/svg\" xmlns:xlink=\"http://www.w3.org/1999/xlink\">\n<g id=\"graph0\" class=\"graph\" transform=\"scale(1 1) rotate(0) translate(4 154)\">\n<title>second expression</title>\n<polygon fill=\"white\" stroke=\"transparent\" points=\"-4,4 -4,-154 310,-154 310,4 -4,4\"/>\n<!-- a -->\n<g id=\"node1\" class=\"node\">\n<title>a</title>\n<ellipse fill=\"none\" stroke=\"black\" cx=\"18\" cy=\"-75\" rx=\"18\" ry=\"18\"/>\n<text text-anchor=\"middle\" x=\"18\" y=\"-71.3\" font-family=\"Times,serif\" font-size=\"14.00\">a</text>\n</g>\n<!-- c -->\n<g id=\"node2\" class=\"node\">\n<title>c</title>\n<ellipse fill=\"none\" stroke=\"black\" cx=\"154\" cy=\"-102\" rx=\"18\" ry=\"18\"/>\n<text text-anchor=\"middle\" x=\"154\" y=\"-98.3\" font-family=\"Times,serif\" font-size=\"14.00\">c</text>\n</g>\n<!-- a&#45;&gt;c -->\n<g id=\"edge1\" class=\"edge\">\n<title>a&#45;&gt;c</title>\n<path fill=\"none\" stroke=\"black\" d=\"M35.7,-78.36C58.37,-82.93 99.14,-91.15 126.14,-96.59\"/>\n<polygon fill=\"black\" stroke=\"black\" points=\"125.59,-100.05 136.09,-98.59 126.98,-93.19 125.59,-100.05\"/>\n<text text-anchor=\"middle\" x=\"86\" y=\"-97.8\" font-family=\"Times,serif\" font-size=\"14.00\">dc/da=b (5)</text>\n</g>\n<!-- e -->\n<g id=\"node4\" class=\"node\">\n<title>e</title>\n<ellipse fill=\"none\" stroke=\"black\" cx=\"154\" cy=\"-48\" rx=\"18\" ry=\"18\"/>\n<text text-anchor=\"middle\" x=\"154\" y=\"-44.3\" font-family=\"Times,serif\" font-size=\"14.00\">e</text>\n</g>\n<!-- a&#45;&gt;e -->\n<g id=\"edge3\" class=\"edge\">\n<title>a&#45;&gt;e</title>\n<path fill=\"none\" stroke=\"black\" d=\"M35.2,-68.77C41.06,-66.69 47.76,-64.53 54,-63 78.04,-57.11 105.97,-53.13 126.02,-50.76\"/>\n<polygon fill=\"black\" stroke=\"black\" points=\"126.46,-54.23 136,-49.63 125.67,-47.28 126.46,-54.23\"/>\n<text text-anchor=\"middle\" x=\"86\" y=\"-66.8\" font-family=\"Times,serif\" font-size=\"14.00\">de/da=d (9)</text>\n</g>\n<!-- f -->\n<g id=\"node6\" class=\"node\">\n<title>f</title>\n<ellipse fill=\"none\" stroke=\"black\" cx=\"288\" cy=\"-75\" rx=\"18\" ry=\"18\"/>\n<text text-anchor=\"middle\" x=\"288\" y=\"-71.3\" font-family=\"Times,serif\" font-size=\"14.00\">f</text>\n</g>\n<!-- c&#45;&gt;f -->\n<g id=\"edge5\" class=\"edge\">\n<title>c&#45;&gt;f</title>\n<path fill=\"none\" stroke=\"black\" d=\"M171.72,-98.58C193.91,-94.04 233.38,-85.97 259.87,-80.55\"/>\n<polygon fill=\"black\" stroke=\"black\" points=\"260.91,-83.91 270,-78.48 259.5,-77.05 260.91,-83.91\"/>\n<text text-anchor=\"middle\" x=\"221\" y=\"-97.8\" font-family=\"Times,serif\" font-size=\"14.00\">df/dc=e (1)</text>\n</g>\n<!-- b -->\n<g id=\"node3\" class=\"node\">\n<title>b</title>\n<ellipse fill=\"none\" stroke=\"black\" cx=\"18\" cy=\"-132\" rx=\"18\" ry=\"18\"/>\n<text text-anchor=\"middle\" x=\"18\" y=\"-128.3\" font-family=\"Times,serif\" font-size=\"14.00\">b</text>\n</g>\n<!-- b&#45;&gt;c -->\n<g id=\"edge2\" class=\"edge\">\n<title>b&#45;&gt;c</title>\n<path fill=\"none\" stroke=\"black\" d=\"M35.82,-128.29C55.53,-123.95 89.14,-116.5 118,-110 120.7,-109.39 123.52,-108.75 126.33,-108.11\"/>\n<polygon fill=\"black\" stroke=\"black\" points=\"127.3,-111.48 136.27,-105.85 125.74,-104.66 127.3,-111.48\"/>\n<text text-anchor=\"middle\" x=\"86\" y=\"-127.8\" font-family=\"Times,serif\" font-size=\"14.00\">dc/db=a (3)</text>\n</g>\n<!-- e&#45;&gt;f -->\n<g id=\"edge6\" class=\"edge\">\n<title>e&#45;&gt;f</title>\n<path fill=\"none\" stroke=\"black\" d=\"M172,-49.71C191.51,-51.88 224.37,-56.18 252,-63 255.02,-63.75 258.15,-64.64 261.24,-65.6\"/>\n<polygon fill=\"black\" stroke=\"black\" points=\"260.2,-68.94 270.8,-68.78 262.41,-62.3 260.2,-68.94\"/>\n<text text-anchor=\"middle\" x=\"221\" y=\"-66.8\" font-family=\"Times,serif\" font-size=\"14.00\">df/de=c (1)</text>\n</g>\n<!-- d -->\n<g id=\"node5\" class=\"node\">\n<title>d</title>\n<ellipse fill=\"none\" stroke=\"black\" cx=\"18\" cy=\"-18\" rx=\"18\" ry=\"18\"/>\n<text text-anchor=\"middle\" x=\"18\" y=\"-14.3\" font-family=\"Times,serif\" font-size=\"14.00\">d</text>\n</g>\n<!-- d&#45;&gt;e -->\n<g id=\"edge4\" class=\"edge\">\n<title>d&#45;&gt;e</title>\n<path fill=\"none\" stroke=\"black\" d=\"M36.13,-18.92C56.12,-20.34 90.01,-23.81 118,-32 121.44,-33.01 124.97,-34.29 128.41,-35.7\"/>\n<polygon fill=\"black\" stroke=\"black\" points=\"127.13,-38.96 137.69,-39.84 129.98,-32.57 127.13,-38.96\"/>\n<text text-anchor=\"middle\" x=\"86\" y=\"-35.8\" font-family=\"Times,serif\" font-size=\"14.00\">de/dd=a (3)</text>\n</g>\n</g>\n</svg>\n",
            "text/plain": [
              "<graphviz.graphs.Digraph at 0x7c8387de7070>"
            ]
          },
          "metadata": {},
          "execution_count": 6
        }
      ],
      "source": [
        "e2 = graphviz.Digraph('second expression', filename='fsm.gv')\n",
        "\n",
        "e2.attr(rankdir='LR', size='8,5')\n",
        "\n",
        "e2.attr('node', shape='circle')\n",
        "e2.edge('a', 'c', label='dc/da=b (5)')\n",
        "e2.edge('b', 'c', label='dc/db=a (3)')\n",
        "e2.edge('a', 'e', label='de/da=d (9)')\n",
        "e2.edge('d', 'e', label='de/dd=a (3)')\n",
        "e2.edge('c', 'f', label='df/dc=e (1)')\n",
        "e2.edge('e', 'f', label='df/de=c (1)')\n",
        "\n",
        "e2"
      ]
    },
    {
      "cell_type": "markdown",
      "metadata": {
        "id": "A5oi21W4gpeM"
      },
      "source": [
        "## Exercise c) What happens if we run backward again?\n",
        "\n",
        "Try to execute the code below. Explain what happens."
      ]
    },
    {
      "cell_type": "code",
      "execution_count": 7,
      "metadata": {
        "colab": {
          "base_uri": "https://localhost:8080/"
        },
        "id": "DCtpJyr-gyX1",
        "outputId": "b41da35f-bd1b-4a6d-d6ab-e194b8f0bd1c"
      },
      "outputs": [
        {
          "output_type": "stream",
          "name": "stdout",
          "text": [
            "Var(v=3.0000, grad=28.0000)\n",
            "Var(v=5.0000, grad=6.0000)\n",
            "Var(v=15.0000, grad=2.0000)\n",
            "Var(v=9.0000, grad=6.0000)\n",
            "Var(v=27.0000, grad=2.0000)\n",
            "Var(v=42.0000, grad=2.0000)\n"
          ]
        }
      ],
      "source": [
        "f.backward()\n",
        "\n",
        "for v in [a, b, c, d, e, f]:\n",
        "    print(v)"
      ]
    },
    {
      "cell_type": "markdown",
      "metadata": {
        "id": "e8bPVq2VhsP-"
      },
      "source": [
        "## Exercise d) Zero gradient\n",
        "\n",
        "We can zero the gradient by backpropagating a -1.0 as is shown in the example below. (If you have run backward multiple time then you also have to run the cell below an equal amount of times.) Explain what is going on."
      ]
    },
    {
      "cell_type": "code",
      "execution_count": 9,
      "metadata": {
        "colab": {
          "base_uri": "https://localhost:8080/"
        },
        "id": "OnyPDQx9lJe0",
        "outputId": "9e122df0-9365-4420-f196-0cd28a4e6702"
      },
      "outputs": [
        {
          "output_type": "stream",
          "name": "stdout",
          "text": [
            "Var(v=2.0000, grad=0.0000)\n",
            "Var(v=5.0000, grad=3.0000)\n",
            "Var(v=15.0000, grad=1.0000)\n",
            "Var(v=9.0000, grad=3.0000)\n",
            "Var(v=27.0000, grad=1.0000)\n",
            "Var(v=42.0000, grad=1.0000)\n",
            "Var(v=2.0000, grad=0.0000)\n",
            "Var(v=5.0000, grad=0.0000)\n",
            "Var(v=15.0000, grad=0.0000)\n",
            "Var(v=9.0000, grad=0.0000)\n",
            "Var(v=27.0000, grad=0.0000)\n",
            "Var(v=42.0000, grad=0.0000)\n"
          ]
        }
      ],
      "source": [
        "a = Var(2.0)\n",
        "\n",
        "for v in [a, b, c, d, e, f]:\n",
        "    print(v)\n",
        "\n",
        "f.backprop(-1.0)\n",
        "\n",
        "for v in [a, b, c, d, e, f]:\n",
        "    print(v)"
      ]
    },
    {
      "cell_type": "markdown",
      "metadata": {
        "id": "U4057_ljNvWB"
      },
      "source": [
        "## Exercise e) Test correctness of derivatives with the finite difference method\n",
        "\n",
        "Write a small function that uses [the finite difference method](https://en.wikipedia.org/wiki/Finite_difference_method) to numerically test that backpropation implementation is working. In short we will use\n",
        "$$\n",
        "\\frac{\\partial f(a)}{\\partial a} \\approx \\frac{f(a+da)-f(a)}{da}\n",
        "$$\n",
        "for $da \\ll 1$.\n",
        "\n",
        "As an example, we could approximate the derivative of the function $f(a)=a^2$ in e.g. the value $a=4$ using the finite difference method. This amounts to inserting the relevant values and approximating the gradient $f'(4)$ with the fraction above.\n"
      ]
    },
    {
      "cell_type": "code",
      "execution_count": 10,
      "metadata": {
        "colab": {
          "base_uri": "https://localhost:8080/"
        },
        "id": "9TGil92lSXDN",
        "outputId": "53312d71-ecbf-4542-a3e3-85f00900e44a"
      },
      "outputs": [
        {
          "output_type": "stream",
          "name": "stdout",
          "text": [
            "Var(v=3.0000, grad=3.0000)\n",
            "Var(v=3.0000, grad=3.0000)\n",
            "Var(v=9.0000, grad=1.0000)\n",
            "8.000000661922968\n"
          ]
        }
      ],
      "source": [
        "# f function - try to change the code to test other types of functions as well (such as different polynomials etc.)\n",
        "def f_function(arg):\n",
        "  a = Var(arg)\n",
        "  b = Var(arg)\n",
        "  f = a * b\n",
        "  f.backward()\n",
        "  return a,b,f\n",
        "\n",
        "for v in f_function(3.0):\n",
        "  print(v)\n",
        "\n",
        "# Insert your finite difference code here\n",
        "def finite_difference(arg, da=1e-10):\n",
        "    \"\"\"\n",
        "    This function compute the finite difference between\n",
        "\n",
        "    Input:\n",
        "    da:          The finite difference                           (float)\n",
        "\n",
        "    Output:\n",
        "    finite_difference: numerical approximation to the derivative (float)\n",
        "    \"\"\"\n",
        "\n",
        "    a, b, fa_da = f_function(arg+da)           # <- Insert correct expression\n",
        "    a, b, fa = f_function(arg)               # <- Insert correct expression\n",
        "\n",
        "    finite_difference = (fa_da.v - fa.v) / da\n",
        "\n",
        "    return finite_difference\n",
        "\n",
        "print(finite_difference(4.0))"
      ]
    },
    {
      "cell_type": "markdown",
      "metadata": {
        "id": "6pZar5RKaUkg"
      },
      "source": [
        "# Create an artificial dataset to play with\n",
        "\n",
        "We create a non-linear 1d regression task. The generator supports various noise levels and it creates train, validation and test sets. You can modify it yourself if you want more or less challenging tasks."
      ]
    },
    {
      "cell_type": "code",
      "execution_count": 11,
      "metadata": {
        "id": "Y6yfMAQ8aduj"
      },
      "outputs": [],
      "source": [
        "import numpy as np\n",
        "import matplotlib.pyplot as plt\n",
        "\n",
        "np.random.seed(42)"
      ]
    },
    {
      "cell_type": "code",
      "execution_count": 12,
      "metadata": {
        "id": "4YabfD43ajNh"
      },
      "outputs": [],
      "source": [
        "def data_generator(noise=0.1, n_samples=300, D1=True):\n",
        "    # Create covariates and response variable\n",
        "    if D1:\n",
        "        X = np.linspace(-3, 3, num=n_samples).reshape(-1,1) # 1-D\n",
        "        np.random.shuffle(X)\n",
        "        y = np.random.normal((0.5*np.sin(X[:,0]*3) + X[:,0]), noise) # 1-D with trend\n",
        "    else:\n",
        "        X = np.random.multivariate_normal(np.zeros(3), noise*np.eye(3), size = n_samples) # 3-D\n",
        "        np.random.shuffle(X)\n",
        "        y = np.sin(X[:,0]) - 5*(X[:,1]**2) + 0.5*X[:,2] # 3-D\n",
        "\n",
        "    # Stack them together vertically to split data set\n",
        "    data_set = np.vstack((X.T,y)).T\n",
        "\n",
        "    train, validation, test = np.split(data_set, [int(0.35*n_samples), int(0.7*n_samples)], axis=0)\n",
        "\n",
        "    # Standardization of the data, remember we do the standardization with the training set mean and standard deviation\n",
        "    train_mu = np.mean(train, axis=0)\n",
        "    train_sigma = np.std(train, axis=0)\n",
        "\n",
        "    train = (train-train_mu)/train_sigma\n",
        "    validation = (validation-train_mu)/train_sigma\n",
        "    test = (test-train_mu)/train_sigma\n",
        "\n",
        "    x_train, x_validation, x_test = train[:,:-1], validation[:,:-1], test[:,:-1]\n",
        "    y_train, y_validation, y_test = train[:,-1], validation[:,-1], test[:,-1]\n",
        "\n",
        "    return x_train, y_train,  x_validation, y_validation, x_test, y_test"
      ]
    },
    {
      "cell_type": "code",
      "execution_count": 13,
      "metadata": {
        "id": "u1oDngHLapIz"
      },
      "outputs": [],
      "source": [
        "D1 = True\n",
        "x_train, y_train,  x_validation, y_validation, x_test, y_test = data_generator(noise=0.5, D1=D1)"
      ]
    },
    {
      "cell_type": "code",
      "execution_count": 14,
      "metadata": {
        "colab": {
          "base_uri": "https://localhost:8080/",
          "height": 430
        },
        "id": "Ysfa3FsBavlm",
        "outputId": "ba6e8b11-704b-4e17-b240-26e323a92ff0"
      },
      "outputs": [
        {
          "output_type": "display_data",
          "data": {
            "text/plain": [
              "<Figure size 640x480 with 1 Axes>"
            ],
            "image/png": "[encoded data removed]"
          },
          "metadata": {}
        }
      ],
      "source": [
        "if D1:\n",
        "    plt.scatter(x_train[:,0], y_train);\n",
        "    plt.scatter(x_validation[:,0], y_validation);\n",
        "    plt.scatter(x_test[:,0], y_test);\n",
        "else:\n",
        "    plt.scatter(x_train[:,1], y_train);\n",
        "    plt.scatter(x_validation[:,1], y_validation);\n",
        "    plt.scatter(x_test[:,1], y_test);\n",
        "plt.show()"
      ]
    },
    {
      "cell_type": "code",
      "execution_count": 15,
      "metadata": {
        "id": "zac2HHNlgbpm"
      },
      "outputs": [],
      "source": [
        "# convert from nparray to Var\n",
        "def nparray_to_Var(x):\n",
        "  if x.ndim==1:\n",
        "    y = [[Var(float(x[i]))] for i in range(x.shape[0])] # always work with list of list\n",
        "  else:\n",
        "    y = [[Var(float(x[i,j])) for j in range(x.shape[1])] for i in range(x.shape[0])]\n",
        "  return y\n",
        "\n",
        "x_train = nparray_to_Var(x_train)\n",
        "y_train = nparray_to_Var(y_train)\n",
        "x_validation = nparray_to_Var(x_validation)\n",
        "y_validation = nparray_to_Var(y_validation)\n",
        "x_test = nparray_to_Var(x_test)\n",
        "y_test = nparray_to_Var(y_test)\n"
      ]
    },
    {
      "cell_type": "markdown",
      "metadata": {
        "id": "VbjrqcpVFtGe"
      },
      "source": [
        "# Defining and initializing the network\n",
        "\n",
        "The steps to create a feed forward neural network are the following:\n",
        "\n",
        "1. **Number of hidden layer and hidden units**. We have to define the number of hidden units in each layer. The number of features in X and the output dimensionality (the size of Y) are given but the numbers in between are set by the researcher. Remember that for each unit in each layer beside in the input has a bias term.\n",
        "2. **Activation functions** for each hidden layer. Each hidden layer in your list must have an activation function (it can also be the linear activation which is equivalent to identity function). The power of neural networks comes from non-linear activation functions that learn representations (features) from the data allowing us to learn from it.\n",
        "3. **Parameter initialization**. We will initialize the weights to have random values. This is done in practice by drawing pseudo random numbers from a Gaussian or uniform distribution. It turns out that for deeper models we have to be careful about how we scale the random numbers. This will be the topic of the exercise below. For now we will just use unit variance Gaussians.  \n",
        "\n",
        "In order to make life easier for ourselves we define a DenseLayer class that takes care of initialization and the forward pass. We can also extend it later with print and advanced initialization capabilities. For the latter we have introduced a Initializer class.\n",
        "\n",
        "Note that we use Sequence in the code below. A Sequence is an ordered list. This means the order we insert and access items are the same."
      ]
    },
    {
      "cell_type": "code",
      "execution_count": 16,
      "metadata": {
        "id": "ij_ieRsAt7Xt"
      },
      "outputs": [],
      "source": [
        "class Initializer:\n",
        "\n",
        "  def init_weights(self, n_in, n_out):\n",
        "    raise NotImplementedError\n",
        "\n",
        "  def init_bias(self, n_out):\n",
        "    raise NotImplementedError"
      ]
    },
    {
      "cell_type": "code",
      "execution_count": 17,
      "metadata": {
        "id": "eb18N5phuIha"
      },
      "outputs": [],
      "source": [
        "import random\n",
        "\n",
        "class NormalInitializer(Initializer):\n",
        "\n",
        "  def __init__(self, mean=0, std=0.1):\n",
        "    self.mean = mean\n",
        "    self.std = std\n",
        "\n",
        "  def init_weights(self, n_in, n_out):\n",
        "    return [[Var(random.gauss(self.mean, self.std)) for _ in range(n_out)] for _ in range(n_in)]\n",
        "\n",
        "  def init_bias(self, n_out):\n",
        "    return [Var(0.0) for _ in range(n_out)]\n",
        "\n",
        "class ConstantInitializer(Initializer):\n",
        "\n",
        "  def __init__(self, weight=1.0, bias=0.0):\n",
        "    self.weight = weight\n",
        "    self.bias = bias\n",
        "\n",
        "  def init_weights(self, n_in, n_out):\n",
        "    return [[Var(self.weight) for _ in range(n_out)] for _ in range(n_in)]\n",
        "\n",
        "  def init_bias(self, n_out):\n",
        "    return [Var(self.bias) for _ in range(n_out)]"
      ]
    },
    {
      "cell_type": "code",
      "execution_count": 18,
      "metadata": {
        "id": "jOLYGnZKuM6W"
      },
      "outputs": [],
      "source": [
        "from typing import Sequence\n",
        "\n",
        "class DenseLayer:\n",
        "    def __init__(self, n_in: int, n_out: int, act_fn, initializer = NormalInitializer(), *, n_lay: int=0):\n",
        "        self.weights = initializer.init_weights(n_in, n_out)\n",
        "        self.bias = initializer.init_bias(n_out)\n",
        "        self.act_fn = act_fn\n",
        "        self.n_lay = n_lay\n",
        "\n",
        "    def __repr__(self):\n",
        "        return 'Weights: ' + repr(self.weights) + ' Biases: ' + repr(self.bias)\n",
        "\n",
        "    def parameters(self) -> Sequence[Var]:\n",
        "      params = []\n",
        "      for r in self.weights:\n",
        "        params += r\n",
        "\n",
        "      return params + self.bias\n",
        "\n",
        "    def printing_parameters(self):\n",
        "      print('Layer', self.n_lay)\n",
        "\n",
        "      print('Weights:', [[f'{w.v:.4f}' for w in row] for row in self.weights])\n",
        "      print('Biases:', [f'{b.v:.4f}' for b in self.bias])\n",
        "\n",
        "      return None\n",
        "\n",
        "\n",
        "    def forward(self, single_input: Sequence[Var]) -> Sequence[Var]:\n",
        "        # self.weights is a matrix with dimension n_in x n_out. We check that the dimensionality of the input\n",
        "        # to the current layer matches the number of nodes in the current layer\n",
        "        assert len(self.weights) == len(single_input), \"weights and single_input must match in first dimension\"\n",
        "        weights = self.weights\n",
        "        out = []\n",
        "        # For some given data point single_input, we now want to calculate the resulting value in each node in the current layer\n",
        "        # We therefore loop over the (number of) nodes in the current layer:\n",
        "        for j in range(len(weights[0])):\n",
        "            # Initialize the node value depending on its corresponding parameters.\n",
        "            node = self.bias[j] # <- Insert code\n",
        "            # We now finish the linear transformation corresponding to the parameters of the currently considered node.\n",
        "            for i in range(len(single_input)):\n",
        "                node +=  single_input[i] * self.weights[i][j]  # <- Insert code\n",
        "            node = self.act_fn(node)\n",
        "            out.append(node)\n",
        "\n",
        "        return out"
      ]
    },
    {
      "cell_type": "markdown",
      "metadata": {
        "id": "jpIZPBpNI0pO"
      },
      "source": [
        "## Exercise f) Add more activation functions\n",
        "\n",
        "To have a full definition of the neural network, we must define an activation function for every layer. Several activation functions have been proposed and have different characteristics. In the Var class we have already defined the rectified linear init (relu).\n",
        "\n",
        "Implement the following activation functions in the Var class:\n",
        "\n",
        "* Identity: $$\\mathrm{identity}(x) = x$$\n",
        "* Hyperbolic tangent: $$\\tanh(x)$$\n",
        "* Sigmoid (or logistic function): $$\\mathrm{sigmoid}(x) = \\frac{1}{1.0 + \\exp(-x ) }$$  Hint: $\\mathrm{sigmoid}'(x)= \\mathrm{sigmoid}(x)(1-\\mathrm{sigmoid}(x))$.  \n",
        "\n",
        "Hint: You can seek inspiration in the relu method in the Var class."
      ]
    },
    {
      "cell_type": "markdown",
      "metadata": {
        "id": "p_8n_SKnIW2F"
      },
      "source": [
        "## Exercise g) Complete the forward pass\n",
        "\n",
        "In the code below we initialize a 1-5-1 network and pass the training set through it. *The forward method in DenseLayer is **not** complete*. It just outputs zeros right now. The method forward should perform an [affine transformation](https://en.wikipedia.org/wiki/Affine_transformation) on the input followed by an application of the activation function."
      ]
    },
    {
      "cell_type": "code",
      "execution_count": 19,
      "metadata": {
        "colab": {
          "base_uri": "https://localhost:8080/"
        },
        "id": "xDEjtePxE7Mv",
        "outputId": "6affbcae-8cb0-4356-b8ea-714e2fb1c53b"
      },
      "outputs": [
        {
          "output_type": "stream",
          "name": "stdout",
          "text": [
            "[[Var(v=-0.0140, grad=0.0000)], [Var(v=-0.0280, grad=0.0000)], [Var(v=-0.0025, grad=0.0000)], [Var(v=-0.0150, grad=0.0000)], [Var(v=-0.0207, grad=0.0000)], [Var(v=-0.0191, grad=0.0000)], [Var(v=-0.0124, grad=0.0000)], [Var(v=-0.0036, grad=0.0000)], [Var(v=-0.0154, grad=0.0000)], [Var(v=-0.0077, grad=0.0000)], [Var(v=-0.0216, grad=0.0000)], [Var(v=-0.0095, grad=0.0000)], [Var(v=-0.0173, grad=0.0000)], [Var(v=-0.0109, grad=0.0000)], [Var(v=-0.0093, grad=0.0000)], [Var(v=-0.0180, grad=0.0000)], [Var(v=-0.0332, grad=0.0000)], [Var(v=-0.0157, grad=0.0000)], [Var(v=-0.0017, grad=0.0000)], [Var(v=-0.0055, grad=0.0000)], [Var(v=-0.0071, grad=0.0000)], [Var(v=-0.0031, grad=0.0000)], [Var(v=-0.0242, grad=0.0000)], [Var(v=-0.0245, grad=0.0000)], [Var(v=-0.0042, grad=0.0000)], [Var(v=-0.0112, grad=0.0000)], [Var(v=-0.0314, grad=0.0000)], [Var(v=-0.0345, grad=0.0000)], [Var(v=-0.0037, grad=0.0000)], [Var(v=-0.0218, grad=0.0000)], [Var(v=-0.0141, grad=0.0000)], [Var(v=-0.0052, grad=0.0000)], [Var(v=-0.0122, grad=0.0000)], [Var(v=-0.0133, grad=0.0000)], [Var(v=-0.0166, grad=0.0000)], [Var(v=-0.0025, grad=0.0000)], [Var(v=-0.0152, grad=0.0000)], [Var(v=-0.0058, grad=0.0000)], [Var(v=-0.0108, grad=0.0000)], [Var(v=-0.0077, grad=0.0000)], [Var(v=-0.0054, grad=0.0000)], [Var(v=-0.0074, grad=0.0000)], [Var(v=-0.0325, grad=0.0000)], [Var(v=-0.0092, grad=0.0000)], [Var(v=-0.0072, grad=0.0000)], [Var(v=-0.0088, grad=0.0000)], [Var(v=-0.0209, grad=0.0000)], [Var(v=-0.0198, grad=0.0000)], [Var(v=-0.0034, grad=0.0000)], [Var(v=-0.0202, grad=0.0000)], [Var(v=-0.0088, grad=0.0000)], [Var(v=-0.0008, grad=0.0000)], [Var(v=-0.0220, grad=0.0000)], [Var(v=-0.0075, grad=0.0000)], [Var(v=-0.0350, grad=0.0000)], [Var(v=-0.0307, grad=0.0000)], [Var(v=-0.0050, grad=0.0000)], [Var(v=-0.0055, grad=0.0000)], [Var(v=-0.0115, grad=0.0000)], [Var(v=-0.0132, grad=0.0000)], [Var(v=-0.0204, grad=0.0000)], [Var(v=-0.0093, grad=0.0000)], [Var(v=-0.0153, grad=0.0000)], [Var(v=-0.0099, grad=0.0000)], [Var(v=-0.0072, grad=0.0000)], [Var(v=-0.0126, grad=0.0000)], [Var(v=-0.0135, grad=0.0000)], [Var(v=-0.0258, grad=0.0000)], [Var(v=-0.0096, grad=0.0000)], [Var(v=-0.0102, grad=0.0000)], [Var(v=-0.0037, grad=0.0000)], [Var(v=-0.0017, grad=0.0000)], [Var(v=-0.0200, grad=0.0000)], [Var(v=-0.0117, grad=0.0000)], [Var(v=-0.0013, grad=0.0000)], [Var(v=-0.0316, grad=0.0000)], [Var(v=-0.0067, grad=0.0000)], [Var(v=-0.0064, grad=0.0000)], [Var(v=-0.0085, grad=0.0000)], [Var(v=-0.0330, grad=0.0000)], [Var(v=-0.0050, grad=0.0000)], [Var(v=-0.0030, grad=0.0000)], [Var(v=-0.0138, grad=0.0000)], [Var(v=-0.0019, grad=0.0000)], [Var(v=-0.0070, grad=0.0000)], [Var(v=-0.0030, grad=0.0000)], [Var(v=-0.0026, grad=0.0000)], [Var(v=-0.0078, grad=0.0000)], [Var(v=-0.0143, grad=0.0000)], [Var(v=-0.0149, grad=0.0000)], [Var(v=-0.0119, grad=0.0000)], [Var(v=-0.0045, grad=0.0000)], [Var(v=-0.0083, grad=0.0000)], [Var(v=-0.0187, grad=0.0000)], [Var(v=-0.0118, grad=0.0000)], [Var(v=-0.0142, grad=0.0000)], [Var(v=-0.0086, grad=0.0000)], [Var(v=-0.0014, grad=0.0000)], [Var(v=-0.0298, grad=0.0000)], [Var(v=-0.0084, grad=0.0000)], [Var(v=-0.0195, grad=0.0000)], [Var(v=-0.0082, grad=0.0000)], [Var(v=-0.0125, grad=0.0000)], [Var(v=-0.0095, grad=0.0000)], [Var(v=-0.0278, grad=0.0000)]]\n"
          ]
        }
      ],
      "source": [
        "NN = [\n",
        "    DenseLayer(1, 5, lambda x: x.relu(), n_lay=0),\n",
        "    DenseLayer(5, 1, lambda x: x.identity(), n_lay=1)\n",
        "]\n",
        "\n",
        "def forward(input, network):\n",
        "\n",
        "  def forward_single(x, network):\n",
        "    for layer in network:\n",
        "        x = layer.forward(x)\n",
        "    return x\n",
        "\n",
        "  output = [ forward_single(input[n], network) for n in range(len(input))]\n",
        "  return output\n",
        "\n",
        "print(forward(x_train, NN))\n",
        "# print(NN[1])\n"
      ]
    },
    {
      "cell_type": "markdown",
      "metadata": {
        "id": "oLrGJytZFtGm"
      },
      "source": [
        "## Exercise h) Print all network parameters\n",
        "\n",
        "Make a function that prints all the parameters of the network (weights and biases) with information about in which layer the appear. In the object oriented spirit you should introduce a method in the DenseLayer class to print the parameters of a layer. Hint: You can take inspiration from the corresponding method in Var."
      ]
    },
    {
      "cell_type": "code",
      "execution_count": 20,
      "metadata": {
        "id": "iac-VwYGFtGm",
        "colab": {
          "base_uri": "https://localhost:8080/"
        },
        "outputId": "c2dab542-1b1f-4b0a-db64-e27791d9669d"
      },
      "outputs": [
        {
          "output_type": "stream",
          "name": "stdout",
          "text": [
            "Layer 0\n",
            "Weights: [['0.0370', '0.0023', '0.1242', '-0.1403', '-0.1370']]\n",
            "Biases: ['0.0000', '0.0000', '0.0000', '0.0000', '0.0000']\n",
            "Layer 1\n",
            "Weights: [['0.0857'], ['-0.1904'], ['-0.1777'], ['-0.0009'], ['-0.0709']]\n",
            "Biases: ['0.0000']\n"
          ]
        }
      ],
      "source": [
        "# Insert code here and in the DenseLayer class\n",
        "\n",
        "def print_parameters(network):\n",
        "  for layer in range(len(network)):\n",
        "    network[layer].printing_parameters()\n",
        "\n",
        "print_parameters(NN)"
      ]
    },
    {
      "cell_type": "markdown",
      "metadata": {
        "id": "_79HOAXrFtHK"
      },
      "source": [
        "## Visualization\n",
        "\n",
        "Now that we have defined our activation functions we can visualize them to see what they look like:"
      ]
    },
    {
      "cell_type": "code",
      "execution_count": 21,
      "metadata": {
        "id": "1FcylHqLTl-Z",
        "colab": {
          "base_uri": "https://localhost:8080/",
          "height": 447
        },
        "outputId": "4325788d-e228-4d25-e680-9f798dc5c314"
      },
      "outputs": [
        {
          "output_type": "execute_result",
          "data": {
            "text/plain": [
              "[<matplotlib.lines.Line2D at 0x7c8365e096c0>]"
            ]
          },
          "metadata": {},
          "execution_count": 21
        },
        {
          "output_type": "display_data",
          "data": {
            "text/plain": [
              "<Figure size 640x480 with 1 Axes>"
            ],
            "image/png": "[encoded data removed]"
          },
          "metadata": {}
        }
      ],
      "source": [
        "x = np.linspace(-6, 6, 100)\n",
        "\n",
        "# convert from Var to ndarray\n",
        "def Var_to_nparray(x):\n",
        "  y = np.zeros((len(x),len(x[0])))\n",
        "  for i in range(len(x)):\n",
        "    for j in range(len(x[0])):\n",
        "      y[i,j] = x[i][j].v\n",
        "  return y\n",
        "\n",
        "# define 1-1 network with weight = 1 and relu activation\n",
        "NN = [ DenseLayer(1, 1, lambda x: x.relu(), initializer = ConstantInitializer(1.0)) ]\n",
        "y = Var_to_nparray(forward(nparray_to_Var(x), NN))\n",
        "\n",
        "#y = Var_to_nparray(relu(nparray_to_Var(x)))\n",
        "plt.plot(x,y)"
      ]
    },
    {
      "cell_type": "code",
      "execution_count": 22,
      "metadata": {
        "id": "oOL2UolJFtHL",
        "colab": {
          "base_uri": "https://localhost:8080/",
          "height": 476
        },
        "outputId": "64e5b5cc-bd57-4c25-be0c-847f61df0ede"
      },
      "outputs": [
        {
          "output_type": "display_data",
          "data": {
            "text/plain": [
              "<Figure size 500x500 with 1 Axes>"
            ],
            "image/png": "[encoded data removed]"
          },
          "metadata": {}
        }
      ],
      "source": [
        "# Testing all activation layers\n",
        "\n",
        "x = np.linspace(-6, 6, 100)\n",
        "units = {\n",
        "    \"identity\": lambda x: x.identity(),\n",
        "    \"sigmoid\": lambda x: x.sigmoid(),\n",
        "    \"relu\": lambda x: x.relu(),\n",
        "    \"tanh\": lambda x: x.tanh()\n",
        "}\n",
        "\n",
        "plt.figure(figsize=(5, 5))\n",
        "[plt.plot(x, Var_to_nparray(forward(nparray_to_Var(x), [DenseLayer(1, 1, unit, initializer = ConstantInitializer(1.0))]) ), label=unit_name, lw=2) for unit_name, unit in units.items()] # unit(nparray_to_Var(x))), label=unit_name, lw=2) for unit_name, unit in units.items()]\n",
        "plt.legend(loc=2, fontsize=16)\n",
        "plt.title('Our activation functions', fontsize=20)\n",
        "plt.ylim([-2, 5])\n",
        "plt.xlim([-6, 6])\n",
        "plt.show()"
      ]
    },
    {
      "cell_type": "markdown",
      "metadata": {
        "id": "b-jdEl-7FtGs"
      },
      "source": [
        "# Advanced initialization schemes\n",
        "\n",
        "If we are not careful with initialization, the signals we propagate forward ($a^{(l)}$, $l=1,\\ldots,L$) and backward ($\\delta^l$, $l=L,L-1,\\ldots,1$) can blow up or shrink to zero. A statistical analysis of the variance of the signals for different activation functions can be found in these two papers: [Glorot initialization](http://proceedings.mlr.press/v9/glorot10a/glorot10a.pdf) and [He initialization](https://arxiv.org/pdf/1502.01852v1.pdf).\n",
        "\n",
        "The result of the analyses are proposals for how to make the initialization such that the variance of the signals (forward and backward) are kept approxmimatly constant when propagating from layer to layer. The exact expressions depend upon the non-linear activation function used. In Glorot initialization, the aim is to keep both the forward and backward variances constant whereas He only aims at keeping the variance in the forward pass constant.\n",
        "\n",
        "We define $n_{in}$ and $n_{out}$ as the number of input units and output units of a particular layer.\n",
        "\n",
        "The Glorot initialization has the form:\n",
        "\n",
        "$$w_{ij} \\sim N \\bigg( 0, \\, \\frac{2 \\alpha }{n_{in} + n_{out}} \\bigg) \\ . $$\n",
        "\n",
        "where $N(\\mu,\\sigma^2)$ is a Gaussian distribution with mean $\\mu$ and variance $\\sigma^2$ and $\\alpha$ is a parameter that depends upon the activation function used. For $\\tanh$, $\\alpha=1$ and for Rectified Linear Unit (ReLU) activations, $\\alpha=2$. (It is also possible to use a uniform distribution for initialization, see [this blog post](https://mmuratarat.github.io/2019-02-25/xavier-glorot-he-weight-init).)\n",
        "\n",
        "The He initialization is very similar\n",
        "\n",
        "$$w_{ij} \\sim N \\bigg( 0, \\, \\frac{\\alpha}{n_{in}} \\bigg) \\ . $$"
      ]
    },
    {
      "cell_type": "markdown",
      "metadata": {
        "id": "mqeyab9qFtGs"
      },
      "source": [
        "## Exercise i) Glorot and He initialization\n",
        "\n",
        "Using the Initializer class, implement functions that implement Glorot and He\n",
        "\n",
        "Explain briefly how you would test numerically that these initializations have the sought after property. Hint: See plots in Glorot paper.\n",
        "\n",
        "Comment: If you want to be more advanced then try to make a universal initializer taking both the activation function and type (Glorot or He) as argument."
      ]
    },
    {
      "cell_type": "code",
      "execution_count": 23,
      "metadata": {
        "id": "Qyk01CgaFtGt"
      },
      "outputs": [],
      "source": [
        "## Glorot\n",
        "def DenseLayer_Glorot_tanh(n_in: int, n_out: int):\n",
        "  std = 1/(n_in+n_out) # <- replace with proper initialization\n",
        "  return DenseLayer(n_in, n_out, lambda x: x.tanh(), initializer = NormalInitializer(std))\n",
        "\n",
        "## He\n",
        "def DenseLayer_He_relu(n_in: int, n_out: int):\n",
        "  std = 2/(n_in) # <- replace with proper initialization\n",
        "  return DenseLayer(n_in, n_out, lambda x: x.relu(), initializer = NormalInitializer(std))"
      ]
    },
    {
      "cell_type": "markdown",
      "metadata": {
        "id": "-XyXBD37FtHk"
      },
      "source": [
        "## Exercise j) Forward pass unit test\n",
        "\n",
        "Write a bit of code to make a unit test that the forward pass works. This can be done by defining a simple network with for example all weights equal to one (using the ConstantInitializer method) and identity activation functions.\n",
        "\n",
        "Hints: Use the [assert](https://www.w3schools.com/python/ref_keyword_assert.asp), the nparray_to_Var and the Var_to_nparray commands."
      ]
    },
    {
      "cell_type": "code",
      "execution_count": 24,
      "metadata": {
        "id": "k0miqRUAFtHl"
      },
      "outputs": [],
      "source": [
        "# Insert code here\n",
        "\n",
        "n_neurons = 5\n",
        "\n",
        "NN_simple = [\n",
        "    DenseLayer(1, n_neurons, lambda x: x.identity(), initializer = ConstantInitializer(1.0), n_lay=0),\n",
        "    DenseLayer(n_neurons, 1, lambda x: x.identity(), initializer = ConstantInitializer(1.0), n_lay=1)\n",
        "]\n",
        "\n",
        "# print_parameters(NN_simple)\n",
        "\n",
        "inputs_orig = np.array([[1.0]])\n",
        "inputs_simple = nparray_to_Var(inputs_orig)\n",
        "\n",
        "forward_pass = forward(inputs_simple, NN_simple)\n",
        "# print(forward_pass)\n",
        "output_simple = Var_to_nparray(forward_pass)\n",
        "# print(output_simple)\n",
        "\n",
        "# print(inputs_orig*3)\n",
        "\n",
        "assert inputs_orig*n_neurons == output_simple, \"Forward pass not working\"\n"
      ]
    },
    {
      "cell_type": "markdown",
      "metadata": {
        "id": "faCxhfFnFtHp"
      },
      "source": [
        "# Loss functions\n",
        "\n",
        "We are only missing a loss function to we need to define a loss function and its derivative with respect to the output of the neural network $y$"
      ]
    },
    {
      "cell_type": "code",
      "execution_count": 25,
      "metadata": {
        "id": "I2eDYKvAFtHq"
      },
      "outputs": [],
      "source": [
        "def squared_loss(t, y):\n",
        "\n",
        "  # add check that sizes agree\n",
        "\n",
        "  def squared_loss_single(t, y):\n",
        "    Loss = Var(0.0)\n",
        "    for i in range(len(t)): # sum over outputs\n",
        "      Loss += (t[i]-y[i]) ** 2\n",
        "    return Loss\n",
        "\n",
        "  Loss = Var(0.0)\n",
        "  for n in range(len(t)): # sum over training data\n",
        "    Loss += squared_loss_single(t[n],y[n])\n",
        "  return Loss"
      ]
    },
    {
      "cell_type": "markdown",
      "metadata": {
        "id": "SrwSJ2UWFtHu"
      },
      "source": [
        "## Exercise k) Implement cross entropy loss\n",
        "\n",
        "Insert code below to implement cross-entropy loss for general dimensionality of $t$. Use a logits formulation:\n",
        "$$\n",
        "\\rm{Loss} = - \\sum_i t_i \\, log \\, p_i\n",
        "$$\n",
        "with $p$ given by the the softmax function in terms of the logits $h$:\n",
        "$$\n",
        "p_i = \\frac{\\exp(h_i)}{\\sum_{i'} \\exp(h_{i'})} .\n",
        "$$\n",
        "Inserting $p$ in the expression for the loss gives\n",
        "$$\n",
        "\\rm{Loss} = - \\sum_i t_i h_i + \\rm{LogSumExp}(h) \\ ,\n",
        "$$\n",
        "where\n",
        "$$\n",
        "\\rm{LogSumExp}(h) = \\log \\sum_i \\exp h_i \\ .\n",
        "$$\n",
        "This is true for $t$ being a one-hot vector.\n",
        "\n",
        "Call the function to convince yourself it works.\n",
        "\n",
        "In practice you want to implement a [numerically stable](https://leimao.github.io/blog/LogSumExp/) version of LogSumExp. But we will not bother about that here.\n",
        "\n",
        "Help: You can add these methods in the Var class:\n",
        "\n",
        "    def exp(self):\n",
        "        return Var(exp(self.v), lambda: [(self, exp(self.v))])\n",
        "    \n",
        "    def log(self):\n",
        "        return Var(log(self.v), lambda: [(self, self.v ** -1)])"
      ]
    },
    {
      "cell_type": "code",
      "execution_count": 26,
      "metadata": {
        "id": "6nMuxyfzFtHv",
        "colab": {
          "base_uri": "https://localhost:8080/"
        },
        "outputId": "2e79c739-b8d5-45da-f486-e40e244bf66d"
      },
      "outputs": [
        {
          "output_type": "stream",
          "name": "stdout",
          "text": [
            "Function: 0.6897266409702165\n",
            "Hand: 0.6897266409702165\n"
          ]
        }
      ],
      "source": [
        "def cross_entropy_loss(t, h):\n",
        "\n",
        "\n",
        "    Loss = Var(0.0)\n",
        "    # Insert code here.\n",
        "    sumexp = Var(0.0)\n",
        "    logsumexp = Var(0.0)\n",
        "    for i in range(len(h)):\n",
        "      sumexp += (h[i][0].exp())\n",
        "    logsumexp = (sumexp).log()\n",
        "\n",
        "    sumtihi = Var(0.0)\n",
        "    for i in range(len(t)):\n",
        "      sumtihi += t[i][0]*h[i][0]\n",
        "\n",
        "    Loss = -sumtihi + logsumexp\n",
        "\n",
        "    return Loss\n",
        "\n",
        "t = np.array([1.0, 0.0, 0.0])\n",
        "h = np.array([0.8, 0.1, 0.1])\n",
        "\n",
        "Loss = cross_entropy_loss(nparray_to_Var(t), nparray_to_Var(h))\n",
        "print('Function: ' + str(Loss.v))\n",
        "\n",
        "# Hand calculations:\n",
        "logsumexp = np.log(np.sum(np.exp(h)))\n",
        "sumtihi = t[0]*h[0] + t[1]*h[1] + t[2]*h[2]\n",
        "loss_hand = -sumtihi + logsumexp\n",
        "print(\"Hand: \" + str(loss_hand))\n",
        "\n",
        "assert loss_hand == Loss.v, \"Cross entropy loss not working\""
      ]
    },
    {
      "cell_type": "markdown",
      "metadata": {
        "id": "8fAF5ew4FtHy"
      },
      "source": [
        "# Backward pass\n",
        "\n",
        "Now the magic happens! We get the calculation of the gradients for free. Just do:"
      ]
    },
    {
      "cell_type": "code",
      "execution_count": 27,
      "metadata": {
        "id": "iHyfPPI9Qqwu"
      },
      "outputs": [],
      "source": [
        "NN = [\n",
        "    DenseLayer(1, 5, lambda x: x.relu()),\n",
        "    DenseLayer(5, 1, lambda x: x.identity())\n",
        "]\n",
        "\n",
        "output = forward(x_train, NN)\n",
        "\n",
        "Loss = squared_loss(y_train,output)\n",
        "Loss.backward()"
      ]
    },
    {
      "cell_type": "markdown",
      "metadata": {
        "id": "49biIAYKQ1oG"
      },
      "source": [
        "and the gradients will be calculated:"
      ]
    },
    {
      "cell_type": "code",
      "execution_count": 28,
      "metadata": {
        "id": "_rGt1bq_Q7uk",
        "colab": {
          "base_uri": "https://localhost:8080/"
        },
        "outputId": "6c5d5dc8-72f7-4919-ec82-2b572cf3aab9"
      },
      "outputs": [
        {
          "output_type": "stream",
          "name": "stdout",
          "text": [
            "Layer 0 \n",
            " Weights: [[Var(v=-0.2078, grad=-5.4619), Var(v=0.1806, grad=-11.4339), Var(v=0.0202, grad=9.6943), Var(v=-0.0948, grad=0.1021), Var(v=0.1332, grad=6.0709)]] Biases: [Var(v=0.0000, grad=4.9656), Var(v=0.0000, grad=-9.8238), Var(v=0.0000, grad=8.3292), Var(v=0.0000, grad=-0.0928), Var(v=0.0000, grad=5.2161)]\n",
            "Layer 1 \n",
            " Weights: [[Var(v=0.0562, grad=20.1904)], [Var(v=0.1138, grad=-18.1381)], [Var(v=-0.0965, grad=-2.0319)], [Var(v=-0.0011, grad=9.2110)], [Var(v=-0.0604, grad=-13.3771)]] Biases: [Var(v=0.0000, grad=2.0501)]\n"
          ]
        },
        {
          "output_type": "execute_result",
          "data": {
            "text/plain": [
              "[None, None]"
            ]
          },
          "metadata": {},
          "execution_count": 28
        }
      ],
      "source": [
        "[print('Layer', i, '\\n', NN[i]) for i in range(len(NN))]"
      ]
    },
    {
      "cell_type": "markdown",
      "metadata": {
        "id": "D7d7qK0uFtH9"
      },
      "source": [
        "# Backward pass unit test\n",
        "\n",
        "Above we used finite differences to test that Nanograd is actually doing what it is supposed to do. We can in principle try the same for the neural network. But we will trust that the test above is enough."
      ]
    },
    {
      "cell_type": "markdown",
      "metadata": {
        "id": "WgBi8GOSFtIN"
      },
      "source": [
        "# Training and validation\n",
        "\n",
        "We are ready to train some neural networks!\n",
        "\n",
        "We initialize again:"
      ]
    },
    {
      "cell_type": "code",
      "execution_count": 29,
      "metadata": {
        "id": "01ePmzBzRtdh"
      },
      "outputs": [],
      "source": [
        "NN = [\n",
        "    DenseLayer(1, 15, lambda x: x.relu()),\n",
        "    DenseLayer(15, 50, lambda x: x.relu()),\n",
        "    DenseLayer(50, 1, lambda x: x.identity())\n",
        "]\n",
        "\n",
        "output = forward(x_train, NN)\n",
        "\n",
        "Loss = squared_loss(y_train,output)\n",
        "Loss.backward()"
      ]
    },
    {
      "cell_type": "markdown",
      "metadata": {
        "id": "10iRPiQ1ISHw"
      },
      "source": [
        "and make an update:\n",
        "\n",
        "We introduce a help function parameters to have a handle in all parameters in the network."
      ]
    },
    {
      "cell_type": "code",
      "execution_count": 30,
      "metadata": {
        "id": "dhAI7eyeznia",
        "colab": {
          "base_uri": "https://localhost:8080/"
        },
        "outputId": "bd5a102b-4a0a-4605-88b6-d089c2b3c05d"
      },
      "outputs": [
        {
          "output_type": "stream",
          "name": "stdout",
          "text": [
            "Network before update:\n",
            "Layer 0 \n",
            " Weights: [[Var(v=0.0869, grad=-1.5905), Var(v=0.1036, grad=-2.5719), Var(v=-0.0157, grad=6.0938), Var(v=0.1769, grad=-8.0688), Var(v=0.1479, grad=9.9520), Var(v=-0.0123, grad=-2.4333), Var(v=0.0923, grad=-1.5891), Var(v=0.1085, grad=-0.6786), Var(v=0.0394, grad=7.5525), Var(v=-0.0202, grad=-5.3991), Var(v=-0.0059, grad=-4.0544), Var(v=-0.1456, grad=-8.4934), Var(v=0.1125, grad=0.2984), Var(v=0.0951, grad=-1.3967), Var(v=-0.0178, grad=6.7410)]] Biases: [Var(v=0.0000, grad=-1.3663), Var(v=0.0000, grad=-2.2094), Var(v=0.0000, grad=-5.5402), Var(v=0.0000, grad=-6.9316), Var(v=0.0000, grad=8.5494), Var(v=0.0000, grad=2.2122), Var(v=0.0000, grad=-1.3651), Var(v=0.0000, grad=-0.5830), Var(v=0.0000, grad=6.4881), Var(v=0.0000, grad=4.9086), Var(v=0.0000, grad=3.6861), Var(v=0.0000, grad=7.7218), Var(v=0.0000, grad=0.2563), Var(v=0.0000, grad=-1.1998), Var(v=0.0000, grad=-6.1286)]\n",
            "Layer 1 \n",
            " Weights: [[Var(v=-0.0982, grad=0.0000), Var(v=0.0270, grad=1.1077), Var(v=-0.0902, grad=0.0000), Var(v=-0.0157, grad=0.2106), Var(v=-0.1214, grad=-0.8905), Var(v=-0.1230, grad=-1.2560), Var(v=-0.0413, grad=0.3170), Var(v=0.0293, grad=0.0000), Var(v=-0.1522, grad=0.0000), Var(v=0.1187, grad=0.2693), Var(v=-0.1852, grad=0.3774), Var(v=0.1023, grad=0.0000), Var(v=0.1268, grad=0.3330), Var(v=-0.0471, grad=1.4451), Var(v=0.0290, grad=0.1486), Var(v=0.1016, grad=0.0000), Var(v=-0.0894, grad=0.0000), Var(v=-0.0016, grad=0.0000), Var(v=-0.0571, grad=0.7296), Var(v=0.0094, grad=0.0000), Var(v=0.0268, grad=0.2644), Var(v=0.1962, grad=-0.5693), Var(v=0.1407, grad=-0.5505), Var(v=-0.0158, grad=0.0137), Var(v=-0.0245, grad=0.0000), Var(v=-0.1039, grad=0.0000), Var(v=0.2221, grad=0.0344), Var(v=-0.0225, grad=-0.0667), Var(v=-0.0853, grad=0.0000), Var(v=0.1234, grad=0.0000), Var(v=0.1001, grad=0.0000), Var(v=-0.0663, grad=0.0000), Var(v=0.0552, grad=0.0015), Var(v=-0.0272, grad=-1.1462), Var(v=0.0126, grad=-0.3258), Var(v=-0.0008, grad=0.1734), Var(v=0.0760, grad=-0.6933), Var(v=0.0852, grad=0.0000), Var(v=-0.1374, grad=0.0000), Var(v=0.0677, grad=0.0000), Var(v=0.0341, grad=0.0000), Var(v=0.1192, grad=-0.5373), Var(v=0.1670, grad=-1.0358), Var(v=-0.1392, grad=0.0000), Var(v=0.0337, grad=0.6169), Var(v=-0.0338, grad=0.0000), Var(v=-0.0809, grad=-1.5770), Var(v=0.0212, grad=0.0000), Var(v=0.0467, grad=-0.5497), Var(v=0.0678, grad=0.0000)], [Var(v=-0.0557, grad=0.0000), Var(v=0.1003, grad=1.3194), Var(v=-0.1679, grad=0.0000), Var(v=0.1231, grad=0.2509), Var(v=0.0493, grad=-1.0607), Var(v=0.0372, grad=-1.4960), Var(v=-0.0040, grad=0.3775), Var(v=-0.1633, grad=0.0000), Var(v=-0.1461, grad=0.0000), Var(v=0.0230, grad=0.3208), Var(v=-0.0349, grad=0.4496), Var(v=0.0320, grad=0.0000), Var(v=0.1159, grad=0.3967), Var(v=0.0961, grad=1.7213), Var(v=0.0039, grad=0.1769), Var(v=-0.2304, grad=0.0000), Var(v=-0.0194, grad=0.0000), Var(v=-0.0975, grad=0.0000), Var(v=0.0453, grad=0.8690), Var(v=-0.0438, grad=0.0000), Var(v=-0.1377, grad=0.3149), Var(v=0.0704, grad=-0.6780), Var(v=0.0482, grad=-0.6557), Var(v=0.0370, grad=0.0163), Var(v=-0.0324, grad=0.0000), Var(v=-0.1160, grad=0.0000), Var(v=0.0843, grad=0.0410), Var(v=0.1377, grad=-0.0794), Var(v=0.0866, grad=0.0000), Var(v=-0.0046, grad=0.0000), Var(v=-0.1853, grad=0.0000), Var(v=0.0437, grad=0.0000), Var(v=-0.0114, grad=0.0018), Var(v=0.0987, grad=-1.3652), Var(v=-0.0327, grad=-0.3881), Var(v=0.0263, grad=0.2065), Var(v=0.1226, grad=-0.8258), Var(v=0.0166, grad=0.0000), Var(v=0.0168, grad=0.0000), Var(v=-0.0377, grad=0.0000), Var(v=-0.0729, grad=0.0000), Var(v=-0.1133, grad=-0.6400), Var(v=-0.0564, grad=-1.2338), Var(v=0.1823, grad=0.0000), Var(v=0.0683, grad=0.7348), Var(v=-0.1135, grad=0.0000), Var(v=0.2153, grad=-1.8783), Var(v=0.1027, grad=0.0000), Var(v=0.0056, grad=-0.6547), Var(v=0.0904, grad=0.0000)], [Var(v=-0.0644, grad=0.0000), Var(v=-0.0526, grad=0.0000), Var(v=-0.0144, grad=-0.0854), Var(v=-0.0308, grad=-0.0366), Var(v=-0.0301, grad=0.1547), Var(v=-0.0932, grad=0.2182), Var(v=0.0158, grad=0.0000), Var(v=-0.1395, grad=0.3875), Var(v=-0.1190, grad=0.0000), Var(v=0.0137, grad=-0.0468), Var(v=0.0913, grad=0.0000), Var(v=0.0317, grad=-0.1450), Var(v=-0.0000, grad=-0.0579), Var(v=0.1557, grad=0.0000), Var(v=-0.0815, grad=0.0000), Var(v=0.3078, grad=-0.1684), Var(v=0.0747, grad=-0.2750), Var(v=0.0442, grad=0.1261), Var(v=-0.0556, grad=-0.1267), Var(v=-0.1580, grad=0.0000), Var(v=0.0210, grad=0.0000), Var(v=-0.0246, grad=0.0000), Var(v=-0.0784, grad=0.0000), Var(v=0.0481, grad=-0.0024), Var(v=0.0188, grad=0.0626), Var(v=-0.0002, grad=0.2716), Var(v=-0.0905, grad=0.0000), Var(v=0.0526, grad=0.0116), Var(v=0.0408, grad=0.2081), Var(v=-0.0362, grad=0.0000), Var(v=0.0758, grad=-0.0545), Var(v=0.0219, grad=0.0000), Var(v=0.0751, grad=0.0000), Var(v=-0.0125, grad=0.0000), Var(v=-0.0063, grad=0.0566), Var(v=-0.0453, grad=-0.0301), Var(v=0.0521, grad=0.0000), Var(v=0.0717, grad=0.0000), Var(v=-0.2108, grad=0.0000), Var(v=-0.0719, grad=-0.0476), Var(v=0.1137, grad=0.0294), Var(v=-0.1147, grad=0.0000), Var(v=-0.0353, grad=0.1799), Var(v=-0.0932, grad=0.0655), Var(v=0.0178, grad=-0.1072), Var(v=0.0350, grad=0.0000), Var(v=0.1698, grad=0.2739), Var(v=0.0145, grad=0.0000), Var(v=0.1357, grad=0.0000), Var(v=0.0473, grad=0.0000)], [Var(v=-0.1119, grad=0.0000), Var(v=0.0490, grad=2.2537), Var(v=-0.0004, grad=0.0000), Var(v=0.0113, grad=0.4285), Var(v=0.0590, grad=-1.8118), Var(v=0.2189, grad=-2.5553), Var(v=0.1964, grad=0.6449), Var(v=-0.0947, grad=0.0000), Var(v=-0.0050, grad=0.0000), Var(v=0.0101, grad=0.5480), Var(v=-0.2096, grad=0.7679), Var(v=-0.1711, grad=0.0000), Var(v=-0.1099, grad=0.6776), Var(v=-0.0320, grad=2.9402), Var(v=0.0267, grad=0.3022), Var(v=0.0497, grad=0.0000), Var(v=-0.0072, grad=0.0000), Var(v=-0.2604, grad=0.0000), Var(v=-0.0152, grad=1.4844), Var(v=0.0536, grad=0.0000), Var(v=0.0341, grad=0.5379), Var(v=-0.0307, grad=-1.1582), Var(v=-0.0518, grad=-1.1201), Var(v=0.1520, grad=0.0278), Var(v=-0.1329, grad=0.0000), Var(v=0.0499, grad=0.0000), Var(v=0.0621, grad=0.0700), Var(v=0.0614, grad=-0.1357), Var(v=-0.0860, grad=0.0000), Var(v=0.0055, grad=0.0000), Var(v=-0.2070, grad=0.0000), Var(v=-0.1071, grad=0.0000), Var(v=0.0651, grad=0.0030), Var(v=-0.0054, grad=-2.3320), Var(v=0.0652, grad=-0.6629), Var(v=-0.1333, grad=0.3527), Var(v=0.0254, grad=-1.4106), Var(v=-0.1468, grad=0.0000), Var(v=0.0356, grad=0.0000), Var(v=-0.0989, grad=0.0000), Var(v=-0.1304, grad=0.0000), Var(v=0.0718, grad=-1.0931), Var(v=0.2318, grad=-2.1075), Var(v=0.0134, grad=0.0000), Var(v=-0.1177, grad=1.2551), Var(v=-0.0072, grad=0.0000), Var(v=0.0080, grad=-3.2084), Var(v=-0.1419, grad=0.0000), Var(v=-0.0688, grad=-1.1183), Var(v=-0.0823, grad=0.0000)], [Var(v=-0.1042, grad=0.0000), Var(v=0.1846, grad=1.8842), Var(v=0.1066, grad=0.0000), Var(v=-0.0338, grad=0.3582), Var(v=0.0378, grad=-1.5148), Var(v=-0.1174, grad=-2.1364), Var(v=0.0096, grad=0.5392), Var(v=0.0569, grad=0.0000), Var(v=0.0108, grad=0.0000), Var(v=0.0476, grad=0.4581), Var(v=0.0651, grad=0.6420), Var(v=-0.1343, grad=0.0000), Var(v=0.0597, grad=0.5665), Var(v=0.0914, grad=2.4581), Var(v=0.0385, grad=0.2527), Var(v=0.0673, grad=0.0000), Var(v=0.0299, grad=0.0000), Var(v=-0.0953, grad=0.0000), Var(v=0.0140, grad=1.2410), Var(v=-0.1263, grad=0.0000), Var(v=0.0013, grad=0.4497), Var(v=-0.0267, grad=-0.9683), Var(v=-0.0764, grad=-0.9364), Var(v=0.0557, grad=0.0233), Var(v=-0.0214, grad=0.0000), Var(v=-0.1084, grad=0.0000), Var(v=-0.0038, grad=0.0586), Var(v=0.1107, grad=-0.1134), Var(v=0.1098, grad=0.0000), Var(v=0.0182, grad=0.0000), Var(v=-0.0732, grad=0.0000), Var(v=0.0465, grad=0.0000), Var(v=0.0108, grad=0.0025), Var(v=-0.1504, grad=-1.9497), Var(v=0.0641, grad=-0.5543), Var(v=0.1747, grad=0.2949), Var(v=-0.1090, grad=-1.1793), Var(v=-0.0554, grad=0.0000), Var(v=0.0944, grad=0.0000), Var(v=-0.1067, grad=0.0000), Var(v=0.0835, grad=0.0000), Var(v=0.1724, grad=-0.9139), Var(v=-0.0558, grad=-1.7619), Var(v=0.0044, grad=0.0000), Var(v=0.0944, grad=1.0493), Var(v=0.0986, grad=0.0000), Var(v=0.0141, grad=-2.6824), Var(v=-0.1322, grad=0.0000), Var(v=-0.0663, grad=-0.9350), Var(v=0.0753, grad=0.0000)], [Var(v=0.0390, grad=0.0000), Var(v=0.0284, grad=0.0000), Var(v=0.0852, grad=-0.0667), Var(v=-0.1709, grad=-0.0286), Var(v=0.0825, grad=0.1208), Var(v=-0.0879, grad=0.1703), Var(v=-0.0292, grad=0.0000), Var(v=0.0805, grad=0.3025), Var(v=0.1356, grad=0.0000), Var(v=-0.1380, grad=-0.0365), Var(v=0.0267, grad=0.0000), Var(v=-0.0696, grad=-0.1132), Var(v=0.1458, grad=-0.0452), Var(v=-0.1540, grad=0.0000), Var(v=0.0643, grad=0.0000), Var(v=0.0266, grad=-0.1314), Var(v=0.0216, grad=-0.2147), Var(v=-0.1668, grad=0.0984), Var(v=-0.0948, grad=-0.0989), Var(v=-0.2110, grad=0.0000), Var(v=0.2173, grad=0.0000), Var(v=0.0947, grad=0.0000), Var(v=-0.0290, grad=0.0000), Var(v=-0.0211, grad=-0.0019), Var(v=0.0465, grad=0.0489), Var(v=0.0195, grad=0.2120), Var(v=-0.1549, grad=0.0000), Var(v=0.0094, grad=0.0090), Var(v=-0.0316, grad=0.1625), Var(v=0.0313, grad=0.0000), Var(v=0.0862, grad=-0.0426), Var(v=-0.1757, grad=0.0000), Var(v=-0.0152, grad=0.0000), Var(v=-0.0595, grad=0.0000), Var(v=0.1340, grad=0.0442), Var(v=0.0655, grad=-0.0235), Var(v=0.1119, grad=0.0000), Var(v=-0.0784, grad=0.0000), Var(v=-0.0172, grad=0.0000), Var(v=-0.0171, grad=-0.0372), Var(v=0.1385, grad=0.0229), Var(v=-0.0163, grad=0.0000), Var(v=0.0628, grad=0.1405), Var(v=-0.0049, grad=0.0511), Var(v=0.0199, grad=-0.0837), Var(v=-0.0482, grad=0.0000), Var(v=0.0341, grad=0.2139), Var(v=-0.1564, grad=0.0000), Var(v=-0.0018, grad=0.0000), Var(v=0.1181, grad=0.0000)], [Var(v=0.0010, grad=0.0000), Var(v=0.1134, grad=1.1753), Var(v=-0.0052, grad=0.0000), Var(v=-0.0362, grad=0.2235), Var(v=0.0373, grad=-0.9449), Var(v=0.0803, grad=-1.3326), Var(v=-0.0953, grad=0.3363), Var(v=-0.0128, grad=0.0000), Var(v=-0.0993, grad=0.0000), Var(v=-0.0251, grad=0.2858), Var(v=0.2658, grad=0.4005), Var(v=0.1062, grad=0.0000), Var(v=0.0414, grad=0.3534), Var(v=0.0057, grad=1.5333), Var(v=0.0259, grad=0.1576), Var(v=-0.0139, grad=0.0000), Var(v=0.0210, grad=0.0000), Var(v=0.1302, grad=0.0000), Var(v=0.0998, grad=0.7741), Var(v=-0.0923, grad=0.0000), Var(v=0.1053, grad=0.2805), Var(v=0.1293, grad=-0.6040), Var(v=0.0816, grad=-0.5841), Var(v=-0.1249, grad=0.0145), Var(v=-0.2264, grad=0.0000), Var(v=0.0103, grad=0.0000), Var(v=-0.0756, grad=0.0365), Var(v=0.0551, grad=-0.0708), Var(v=-0.1339, grad=0.0000), Var(v=-0.1257, grad=0.0000), Var(v=-0.0508, grad=0.0000), Var(v=-0.0843, grad=0.0000), Var(v=-0.0559, grad=0.0016), Var(v=0.1043, grad=-1.2161), Var(v=-0.0285, grad=-0.3457), Var(v=0.0659, grad=0.1839), Var(v=-0.0419, grad=-0.7356), Var(v=0.0255, grad=0.0000), Var(v=-0.1526, grad=0.0000), Var(v=-0.0015, grad=0.0000), Var(v=0.0294, grad=0.0000), Var(v=0.1902, grad=-0.5701), Var(v=0.0828, grad=-1.0990), Var(v=-0.0092, grad=0.0000), Var(v=0.1714, grad=0.6545), Var(v=-0.1827, grad=0.0000), Var(v=0.0212, grad=-1.6732), Var(v=-0.0070, grad=0.0000), Var(v=-0.0001, grad=-0.5832), Var(v=-0.0947, grad=0.0000)], [Var(v=-0.0439, grad=0.0000), Var(v=0.0217, grad=1.3828), Var(v=-0.0203, grad=0.0000), Var(v=0.0553, grad=0.2629), Var(v=0.0483, grad=-1.1117), Var(v=-0.0218, grad=-1.5679), Var(v=0.1095, grad=0.3957), Var(v=0.1354, grad=0.0000), Var(v=-0.2804, grad=0.0000), Var(v=0.2545, grad=0.3362), Var(v=0.0804, grad=0.4712), Var(v=-0.0650, grad=0.0000), Var(v=0.0848, grad=0.4157), Var(v=0.0731, grad=1.8040), Var(v=0.2222, grad=0.1855), Var(v=-0.2143, grad=0.0000), Var(v=-0.1165, grad=0.0000), Var(v=-0.0600, grad=0.0000), Var(v=0.1317, grad=0.9108), Var(v=0.0084, grad=0.0000), Var(v=-0.0543, grad=0.3300), Var(v=0.0754, grad=-0.7106), Var(v=-0.0008, grad=-0.6872), Var(v=0.0976, grad=0.0171), Var(v=-0.0475, grad=0.0000), Var(v=0.0618, grad=0.0000), Var(v=0.0698, grad=0.0430), Var(v=-0.1177, grad=-0.0832), Var(v=-0.1223, grad=0.0000), Var(v=0.1262, grad=0.0000), Var(v=0.1067, grad=0.0000), Var(v=-0.0386, grad=0.0000), Var(v=-0.0374, grad=0.0019), Var(v=0.1165, grad=-1.4309), Var(v=0.0614, grad=-0.4068), Var(v=0.0557, grad=0.2164), Var(v=0.0515, grad=-0.8655), Var(v=0.0446, grad=0.0000), Var(v=-0.0853, grad=0.0000), Var(v=0.0779, grad=0.0000), Var(v=-0.0657, grad=0.0000), Var(v=0.1184, grad=-0.6707), Var(v=-0.0176, grad=-1.2931), Var(v=-0.1120, grad=0.0000), Var(v=-0.1148, grad=0.7701), Var(v=0.0253, grad=0.0000), Var(v=0.0669, grad=-1.9686), Var(v=-0.0833, grad=0.0000), Var(v=0.0529, grad=-0.6862), Var(v=0.0848, grad=0.0000)], [Var(v=-0.1972, grad=0.0000), Var(v=0.1672, grad=0.5020), Var(v=-0.0324, grad=0.0000), Var(v=0.1315, grad=0.0954), Var(v=-0.1740, grad=-0.4036), Var(v=-0.1346, grad=-0.5692), Var(v=-0.0600, grad=0.1437), Var(v=0.0908, grad=0.0000), Var(v=0.1231, grad=0.0000), Var(v=-0.0820, grad=0.1221), Var(v=0.1562, grad=0.1711), Var(v=-0.0402, grad=0.0000), Var(v=-0.0094, grad=0.1509), Var(v=0.0105, grad=0.6549), Var(v=0.0032, grad=0.0673), Var(v=0.0620, grad=0.0000), Var(v=-0.0685, grad=0.0000), Var(v=-0.1841, grad=0.0000), Var(v=0.1105, grad=0.3307), Var(v=0.0549, grad=0.0000), Var(v=0.1415, grad=0.1198), Var(v=0.0407, grad=-0.2580), Var(v=0.2121, grad=-0.2495), Var(v=0.0074, grad=0.0062), Var(v=0.0248, grad=0.0000), Var(v=0.0391, grad=0.0000), Var(v=0.1174, grad=0.0156), Var(v=-0.0560, grad=-0.0302), Var(v=0.0278, grad=0.0000), Var(v=-0.0119, grad=0.0000), Var(v=0.0089, grad=0.0000), Var(v=-0.0377, grad=0.0000), Var(v=-0.0670, grad=0.0007), Var(v=-0.0937, grad=-0.5195), Var(v=0.0641, grad=-0.1477), Var(v=-0.0085, grad=0.0786), Var(v=-0.0860, grad=-0.3142), Var(v=-0.0077, grad=0.0000), Var(v=0.0982, grad=0.0000), Var(v=0.1202, grad=0.0000), Var(v=-0.1253, grad=0.0000), Var(v=0.0426, grad=-0.2435), Var(v=-0.0456, grad=-0.4694), Var(v=0.0634, grad=0.0000), Var(v=-0.0271, grad=0.2796), Var(v=-0.0389, grad=0.0000), Var(v=0.0158, grad=-0.7147), Var(v=0.0054, grad=0.0000), Var(v=0.0432, grad=-0.2491), Var(v=-0.0645, grad=0.0000)], [Var(v=-0.0936, grad=0.0000), Var(v=-0.1914, grad=0.0000), Var(v=0.1371, grad=-0.1100), Var(v=0.0482, grad=-0.0471), Var(v=0.1667, grad=0.1991), Var(v=-0.0348, grad=0.2808), Var(v=-0.0063, grad=0.0000), Var(v=0.1978, grad=0.4988), Var(v=0.0545, grad=0.0000), Var(v=0.0115, grad=-0.0602), Var(v=0.0319, grad=0.0000), Var(v=0.0366, grad=-0.1867), Var(v=0.0192, grad=-0.0745), Var(v=0.0601, grad=0.0000), Var(v=-0.1466, grad=0.0000), Var(v=0.0383, grad=-0.2167), Var(v=0.0793, grad=-0.3539), Var(v=-0.0890, grad=0.1622), Var(v=0.1813, grad=-0.1631), Var(v=-0.0723, grad=0.0000), Var(v=-0.0717, grad=0.0000), Var(v=0.1293, grad=0.0000), Var(v=-0.1083, grad=0.0000), Var(v=-0.0985, grad=-0.0031), Var(v=-0.0085, grad=0.0806), Var(v=0.0220, grad=0.3496), Var(v=0.1388, grad=0.0000), Var(v=-0.0931, grad=0.0149), Var(v=0.1756, grad=0.2679), Var(v=0.0561, grad=0.0000), Var(v=0.0371, grad=-0.0702), Var(v=0.0031, grad=0.0000), Var(v=-0.0622, grad=0.0000), Var(v=0.0853, grad=0.0000), Var(v=0.0786, grad=0.0729), Var(v=0.1084, grad=-0.0388), Var(v=0.0003, grad=0.0000), Var(v=0.0810, grad=0.0000), Var(v=0.1655, grad=0.0000), Var(v=-0.1944, grad=-0.0613), Var(v=-0.0545, grad=0.0378), Var(v=-0.0548, grad=0.0000), Var(v=-0.0046, grad=0.2316), Var(v=0.0513, grad=0.0843), Var(v=0.1051, grad=-0.1379), Var(v=0.0200, grad=0.0000), Var(v=0.1230, grad=0.3526), Var(v=-0.0745, grad=0.0000), Var(v=0.0346, grad=0.0000), Var(v=-0.0940, grad=0.0000)], [Var(v=-0.0913, grad=0.0000), Var(v=-0.0855, grad=0.0000), Var(v=0.0193, grad=-0.0323), Var(v=0.0781, grad=-0.0138), Var(v=0.1948, grad=0.0585), Var(v=-0.0693, grad=0.0825), Var(v=-0.2161, grad=0.0000), Var(v=0.0724, grad=0.1466), Var(v=-0.0598, grad=0.0000), Var(v=0.0941, grad=-0.0177), Var(v=0.0607, grad=0.0000), Var(v=-0.0773, grad=-0.0549), Var(v=0.0190, grad=-0.0219), Var(v=0.1023, grad=0.0000), Var(v=-0.0041, grad=0.0000), Var(v=-0.0043, grad=-0.0637), Var(v=-0.1417, grad=-0.1040), Var(v=0.0602, grad=0.0477), Var(v=-0.0067, grad=-0.0479), Var(v=0.1737, grad=0.0000), Var(v=0.0485, grad=0.0000), Var(v=-0.0153, grad=0.0000), Var(v=0.0065, grad=0.0000), Var(v=-0.0113, grad=-0.0009), Var(v=-0.0821, grad=0.0237), Var(v=-0.1867, grad=0.1027), Var(v=0.0741, grad=0.0000), Var(v=-0.0937, grad=0.0044), Var(v=-0.0179, grad=0.0787), Var(v=0.0684, grad=0.0000), Var(v=0.0086, grad=-0.0206), Var(v=-0.0750, grad=0.0000), Var(v=-0.0169, grad=0.0000), Var(v=0.0638, grad=0.0000), Var(v=0.2408, grad=0.0214), Var(v=-0.1011, grad=-0.0114), Var(v=-0.0296, grad=0.0000), Var(v=0.1795, grad=0.0000), Var(v=0.0902, grad=0.0000), Var(v=0.0830, grad=-0.0180), Var(v=-0.1142, grad=0.0111), Var(v=0.0524, grad=0.0000), Var(v=-0.0205, grad=0.0681), Var(v=0.0207, grad=0.0248), Var(v=-0.1328, grad=-0.0405), Var(v=0.0937, grad=0.0000), Var(v=0.0408, grad=0.1036), Var(v=-0.1522, grad=0.0000), Var(v=-0.1080, grad=0.0000), Var(v=-0.0444, grad=0.0000)], [Var(v=-0.1646, grad=0.0000), Var(v=-0.0674, grad=0.0000), Var(v=0.1138, grad=-0.7913), Var(v=0.2088, grad=-0.3388), Var(v=-0.0115, grad=1.4327), Var(v=0.0644, grad=2.0206), Var(v=-0.0037, grad=0.0000), Var(v=0.1068, grad=3.5888), Var(v=-0.0243, grad=0.0000), Var(v=0.0875, grad=-0.4333), Var(v=-0.0726, grad=0.0000), Var(v=0.0555, grad=-1.3432), Var(v=0.1174, grad=-0.5358), Var(v=-0.0537, grad=0.0000), Var(v=0.0047, grad=0.0000), Var(v=0.0569, grad=-1.5592), Var(v=0.1011, grad=-2.5464), Var(v=0.0760, grad=1.1674), Var(v=0.0895, grad=-1.1737), Var(v=-0.0807, grad=0.0000), Var(v=-0.0329, grad=0.0000), Var(v=-0.0457, grad=0.0000), Var(v=-0.0110, grad=0.0000), Var(v=0.0319, grad=-0.0220), Var(v=0.0801, grad=0.5802), Var(v=0.1897, grad=2.5155), Var(v=-0.0878, grad=0.0000), Var(v=0.0013, grad=0.1073), Var(v=0.2407, grad=1.9273), Var(v=-0.0787, grad=0.0000), Var(v=0.1145, grad=-0.5050), Var(v=-0.0628, grad=0.0000), Var(v=-0.0537, grad=0.0000), Var(v=-0.1143, grad=0.0000), Var(v=0.0985, grad=0.5242), Var(v=0.0851, grad=-0.2789), Var(v=-0.1407, grad=0.0000), Var(v=-0.0765, grad=0.0000), Var(v=-0.0098, grad=0.0000), Var(v=0.1242, grad=-0.4409), Var(v=0.2271, grad=0.2719), Var(v=-0.0974, grad=0.0000), Var(v=0.2494, grad=1.6664), Var(v=0.0233, grad=0.6063), Var(v=0.1018, grad=-0.9924), Var(v=-0.0917, grad=0.0000), Var(v=0.0572, grad=2.5370), Var(v=-0.1266, grad=0.0000), Var(v=-0.0241, grad=0.0000), Var(v=-0.0621, grad=0.0000)], [Var(v=0.0882, grad=0.0000), Var(v=-0.0192, grad=1.4331), Var(v=-0.1639, grad=0.0000), Var(v=-0.0479, grad=0.2725), Var(v=0.0205, grad=-1.1521), Var(v=-0.1330, grad=-1.6248), Var(v=-0.1798, grad=0.4101), Var(v=-0.1060, grad=0.0000), Var(v=0.0631, grad=0.0000), Var(v=-0.0125, grad=0.3484), Var(v=-0.0036, grad=0.4883), Var(v=-0.1183, grad=0.0000), Var(v=-0.0556, grad=0.4308), Var(v=0.1305, grad=1.8695), Var(v=0.0286, grad=0.1922), Var(v=0.0621, grad=0.0000), Var(v=-0.2116, grad=0.0000), Var(v=-0.0153, grad=0.0000), Var(v=-0.1676, grad=0.9439), Var(v=-0.1137, grad=0.0000), Var(v=-0.0491, grad=0.3420), Var(v=-0.0406, grad=-0.7364), Var(v=0.0561, grad=-0.7122), Var(v=-0.0494, grad=0.0177), Var(v=0.0904, grad=0.0000), Var(v=-0.0192, grad=0.0000), Var(v=-0.0242, grad=0.0445), Var(v=0.0659, grad=-0.0863), Var(v=0.0204, grad=0.0000), Var(v=-0.2011, grad=0.0000), Var(v=0.0526, grad=0.0000), Var(v=0.2027, grad=0.0000), Var(v=0.1135, grad=0.0019), Var(v=0.0344, grad=-1.4828), Var(v=-0.0062, grad=-0.4215), Var(v=0.0344, grad=0.2243), Var(v=0.1399, grad=-0.8969), Var(v=-0.1036, grad=0.0000), Var(v=0.0162, grad=0.0000), Var(v=-0.1318, grad=0.0000), Var(v=0.0502, grad=0.0000), Var(v=-0.1720, grad=-0.6951), Var(v=0.0344, grad=-1.3400), Var(v=0.1167, grad=0.0000), Var(v=0.0856, grad=0.7981), Var(v=-0.1644, grad=0.0000), Var(v=-0.0158, grad=-2.0401), Var(v=-0.0138, grad=0.0000), Var(v=0.1115, grad=-0.7111), Var(v=-0.1020, grad=0.0000)], [Var(v=-0.2545, grad=0.0000), Var(v=0.0322, grad=1.2118), Var(v=-0.2095, grad=0.0000), Var(v=-0.0125, grad=0.2304), Var(v=-0.0059, grad=-0.9742), Var(v=0.0840, grad=-1.3739), Var(v=-0.1287, grad=0.3467), Var(v=-0.0232, grad=0.0000), Var(v=0.1723, grad=0.0000), Var(v=0.0669, grad=0.2946), Var(v=0.1261, grad=0.4129), Var(v=-0.0920, grad=0.0000), Var(v=0.0700, grad=0.3643), Var(v=-0.0308, grad=1.5809), Var(v=0.0199, grad=0.1625), Var(v=0.0674, grad=0.0000), Var(v=0.0489, grad=0.0000), Var(v=-0.0610, grad=0.0000), Var(v=0.1942, grad=0.7981), Var(v=-0.0885, grad=0.0000), Var(v=0.1159, grad=0.2892), Var(v=-0.0225, grad=-0.6227), Var(v=-0.0153, grad=-0.6022), Var(v=0.1264, grad=0.0150), Var(v=-0.0938, grad=0.0000), Var(v=-0.0645, grad=0.0000), Var(v=0.0422, grad=0.0377), Var(v=-0.0726, grad=-0.0729), Var(v=0.0072, grad=0.0000), Var(v=-0.0296, grad=0.0000), Var(v=-0.0844, grad=0.0000), Var(v=-0.0490, grad=0.0000), Var(v=0.1734, grad=0.0016), Var(v=0.0583, grad=-1.2539), Var(v=0.0785, grad=-0.3565), Var(v=0.1373, grad=0.1896), Var(v=0.1153, grad=-0.7584), Var(v=0.1289, grad=0.0000), Var(v=-0.2080, grad=0.0000), Var(v=-0.0494, grad=0.0000), Var(v=-0.0069, grad=0.0000), Var(v=0.1581, grad=-0.5877), Var(v=0.0549, grad=-1.1331), Var(v=-0.1641, grad=0.0000), Var(v=0.1161, grad=0.6748), Var(v=-0.0268, grad=0.0000), Var(v=-0.0131, grad=-1.7251), Var(v=-0.1183, grad=0.0000), Var(v=0.1172, grad=-0.6013), Var(v=-0.1204, grad=0.0000)], [Var(v=0.0651, grad=0.0000), Var(v=0.0713, grad=0.0000), Var(v=0.1275, grad=-0.0968), Var(v=0.0098, grad=-0.0414), Var(v=-0.0408, grad=0.1752), Var(v=0.0481, grad=0.2471), Var(v=0.0030, grad=0.0000), Var(v=0.0518, grad=0.4389), Var(v=-0.1131, grad=0.0000), Var(v=0.1854, grad=-0.0530), Var(v=-0.0376, grad=0.0000), Var(v=-0.0144, grad=-0.1643), Var(v=-0.0733, grad=-0.0655), Var(v=-0.1067, grad=0.0000), Var(v=-0.1275, grad=0.0000), Var(v=0.0558, grad=-0.1907), Var(v=0.2137, grad=-0.3114), Var(v=0.0440, grad=0.1428), Var(v=0.1037, grad=-0.1436), Var(v=-0.0519, grad=0.0000), Var(v=-0.1070, grad=0.0000), Var(v=0.0656, grad=0.0000), Var(v=-0.0968, grad=0.0000), Var(v=0.0375, grad=-0.0027), Var(v=-0.0288, grad=0.0710), Var(v=0.0743, grad=0.3077), Var(v=0.1264, grad=0.0000), Var(v=0.0934, grad=0.0131), Var(v=-0.0604, grad=0.2357), Var(v=0.0679, grad=0.0000), Var(v=0.1291, grad=-0.0618), Var(v=-0.0273, grad=0.0000), Var(v=-0.0458, grad=0.0000), Var(v=-0.0426, grad=0.0000), Var(v=-0.0150, grad=0.0641), Var(v=-0.0702, grad=-0.0341), Var(v=0.0177, grad=0.0000), Var(v=0.0823, grad=0.0000), Var(v=0.0065, grad=0.0000), Var(v=0.0010, grad=-0.0539), Var(v=-0.1489, grad=0.0333), Var(v=0.0418, grad=0.0000), Var(v=-0.0822, grad=0.2038), Var(v=-0.1391, grad=0.0742), Var(v=0.1246, grad=-0.1214), Var(v=0.0506, grad=0.0000), Var(v=-0.0009, grad=0.3103), Var(v=0.0682, grad=0.0000), Var(v=-0.2114, grad=0.0000), Var(v=0.0701, grad=0.0000)]] Biases: [Var(v=0.0000, grad=0.0000), Var(v=0.0000, grad=10.9446), Var(v=0.0000, grad=-4.9423), Var(v=0.0000, grad=-0.0354), Var(v=0.0000, grad=0.1495), Var(v=0.0000, grad=0.2109), Var(v=0.0000, grad=3.1318), Var(v=0.0000, grad=22.4146), Var(v=0.0000, grad=0.0000), Var(v=0.0000, grad=-0.0452), Var(v=0.0000, grad=3.7291), Var(v=0.0000, grad=-8.3892), Var(v=0.0000, grad=-0.0559), Var(v=0.0000, grad=14.2781), Var(v=0.0000, grad=1.4678), Var(v=0.0000, grad=-9.7386), Var(v=0.0000, grad=-15.9046), Var(v=0.0000, grad=7.2911), Var(v=0.0000, grad=-0.1225), Var(v=0.0000, grad=0.0000), Var(v=0.0000, grad=2.6122), Var(v=0.0000, grad=-5.6243), Var(v=0.0000, grad=-5.4393), Var(v=0.0000, grad=-0.0023), Var(v=0.0000, grad=3.6237), Var(v=0.0000, grad=15.7113), Var(v=0.0000, grad=0.3401), Var(v=0.0000, grad=0.0112), Var(v=0.0000, grad=12.0373), Var(v=0.0000, grad=0.0000), Var(v=0.0000, grad=-3.1539), Var(v=0.0000, grad=0.0000), Var(v=0.0000, grad=0.0147), Var(v=0.0000, grad=-11.3247), Var(v=0.0000, grad=0.0547), Var(v=0.0000, grad=-0.0291), Var(v=0.0000, grad=-6.8501), Var(v=0.0000, grad=0.0000), Var(v=0.0000, grad=0.0000), Var(v=0.0000, grad=-2.7539), Var(v=0.0000, grad=1.6985), Var(v=0.0000, grad=-5.3085), Var(v=0.0000, grad=0.1739), Var(v=0.0000, grad=3.7868), Var(v=0.0000, grad=-0.1036), Var(v=0.0000, grad=0.0000), Var(v=0.0000, grad=0.2648), Var(v=0.0000, grad=0.0000), Var(v=0.0000, grad=-5.4308), Var(v=0.0000, grad=0.0000)]\n",
            "Layer 2 \n",
            " Weights: [[Var(v=-0.1671, grad=0.0000)], [Var(v=-0.1259, grad=-6.9817)], [Var(v=-0.0559, grad=2.1912)], [Var(v=-0.0239, grad=1.8841)], [Var(v=0.1012, grad=-1.1704)], [Var(v=0.1428, grad=-0.0997)], [Var(v=-0.0360, grad=-0.0418)], [Var(v=0.2536, grad=1.9153)], [Var(v=-0.1522, grad=0.0000)], [Var(v=-0.0306, grad=-3.4218)], [Var(v=-0.0429, grad=-0.3864)], [Var(v=-0.0949, grad=0.7532)], [Var(v=-0.0379, grad=-0.8210)], [Var(v=-0.1643, grad=-3.4749)], [Var(v=-0.0169, grad=-4.5619)], [Var(v=-0.1102, grad=1.4763)], [Var(v=-0.1799, grad=2.0149)], [Var(v=0.0825, grad=0.8803)], [Var(v=-0.0829, grad=-1.0885)], [Var(v=-0.0547, grad=0.0000)], [Var(v=-0.0301, grad=-0.9305)], [Var(v=0.0647, grad=-3.0315)], [Var(v=0.0626, grad=-1.7607)], [Var(v=-0.0016, grad=-4.0278)], [Var(v=0.0410, grad=1.1039)], [Var(v=0.1777, grad=2.7723)], [Var(v=-0.0039, grad=-4.5526)], [Var(v=0.0076, grad=-3.0163)], [Var(v=0.1362, grad=3.6612)], [Var(v=-0.1853, grad=0.0000)], [Var(v=-0.0357, grad=2.1404)], [Var(v=0.0309, grad=0.0000)], [Var(v=-0.0002, grad=-3.4530)], [Var(v=0.1303, grad=-1.2794)], [Var(v=0.0370, grad=-1.4325)], [Var(v=-0.0197, grad=-2.1572)], [Var(v=0.0788, grad=-3.3105)], [Var(v=0.0956, grad=0.0000)], [Var(v=-0.0713, grad=0.0000)], [Var(v=-0.0312, grad=1.2947)], [Var(v=0.0192, grad=3.1223)], [Var(v=0.0611, grad=-6.5367)], [Var(v=0.1177, grad=-2.1216)], [Var(v=0.0428, grad=0.0541)], [Var(v=-0.0701, grad=-0.8024)], [Var(v=-0.0087, grad=0.0000)], [Var(v=0.1793, grad=-1.2180)], [Var(v=-0.0399, grad=0.0000)], [Var(v=0.0625, grad=-1.3953)], [Var(v=-0.0393, grad=0.0000)]] Biases: [Var(v=0.0000, grad=1.4772)]\n",
            "\n",
            "Network after update:\n",
            "Layer 0 \n",
            " Weights: [[Var(v=0.1029, grad=-1.5905), Var(v=0.1293, grad=-2.5719), Var(v=-0.0767, grad=6.0938), Var(v=0.2576, grad=-8.0688), Var(v=0.0484, grad=9.9520), Var(v=0.0121, grad=-2.4333), Var(v=0.1081, grad=-1.5891), Var(v=0.1153, grad=-0.6786), Var(v=-0.0361, grad=7.5525), Var(v=0.0338, grad=-5.3991), Var(v=0.0346, grad=-4.0544), Var(v=-0.0606, grad=-8.4934), Var(v=0.1095, grad=0.2984), Var(v=0.1091, grad=-1.3967), Var(v=-0.0852, grad=6.7410)]] Biases: [Var(v=0.0137, grad=-1.3663), Var(v=0.0221, grad=-2.2094), Var(v=0.0554, grad=-5.5402), Var(v=0.0693, grad=-6.9316), Var(v=-0.0855, grad=8.5494), Var(v=-0.0221, grad=2.2122), Var(v=0.0137, grad=-1.3651), Var(v=0.0058, grad=-0.5830), Var(v=-0.0649, grad=6.4881), Var(v=-0.0491, grad=4.9086), Var(v=-0.0369, grad=3.6861), Var(v=-0.0772, grad=7.7218), Var(v=-0.0026, grad=0.2563), Var(v=0.0120, grad=-1.1998), Var(v=0.0613, grad=-6.1286)]\n",
            "Layer 1 \n",
            " Weights: [[Var(v=-0.0982, grad=0.0000), Var(v=0.0159, grad=1.1077), Var(v=-0.0902, grad=0.0000), Var(v=-0.0178, grad=0.2106), Var(v=-0.1125, grad=-0.8905), Var(v=-0.1104, grad=-1.2560), Var(v=-0.0445, grad=0.3170), Var(v=0.0293, grad=0.0000), Var(v=-0.1522, grad=0.0000), Var(v=0.1160, grad=0.2693), Var(v=-0.1890, grad=0.3774), Var(v=0.1023, grad=0.0000), Var(v=0.1235, grad=0.3330), Var(v=-0.0616, grad=1.4451), Var(v=0.0275, grad=0.1486), Var(v=0.1016, grad=0.0000), Var(v=-0.0894, grad=0.0000), Var(v=-0.0016, grad=0.0000), Var(v=-0.0644, grad=0.7296), Var(v=0.0094, grad=0.0000), Var(v=0.0242, grad=0.2644), Var(v=0.2019, grad=-0.5693), Var(v=0.1462, grad=-0.5505), Var(v=-0.0160, grad=0.0137), Var(v=-0.0245, grad=0.0000), Var(v=-0.1039, grad=0.0000), Var(v=0.2218, grad=0.0344), Var(v=-0.0219, grad=-0.0667), Var(v=-0.0853, grad=0.0000), Var(v=0.1234, grad=0.0000), Var(v=0.1001, grad=0.0000), Var(v=-0.0663, grad=0.0000), Var(v=0.0551, grad=0.0015), Var(v=-0.0158, grad=-1.1462), Var(v=0.0159, grad=-0.3258), Var(v=-0.0025, grad=0.1734), Var(v=0.0829, grad=-0.6933), Var(v=0.0852, grad=0.0000), Var(v=-0.1374, grad=0.0000), Var(v=0.0677, grad=0.0000), Var(v=0.0341, grad=0.0000), Var(v=0.1246, grad=-0.5373), Var(v=0.1774, grad=-1.0358), Var(v=-0.1392, grad=0.0000), Var(v=0.0275, grad=0.6169), Var(v=-0.0338, grad=0.0000), Var(v=-0.0651, grad=-1.5770), Var(v=0.0212, grad=0.0000), Var(v=0.0522, grad=-0.5497), Var(v=0.0678, grad=0.0000)], [Var(v=-0.0557, grad=0.0000), Var(v=0.0871, grad=1.3194), Var(v=-0.1679, grad=0.0000), Var(v=0.1206, grad=0.2509), Var(v=0.0599, grad=-1.0607), Var(v=0.0522, grad=-1.4960), Var(v=-0.0078, grad=0.3775), Var(v=-0.1633, grad=0.0000), Var(v=-0.1461, grad=0.0000), Var(v=0.0198, grad=0.3208), Var(v=-0.0394, grad=0.4496), Var(v=0.0320, grad=0.0000), Var(v=0.1120, grad=0.3967), Var(v=0.0789, grad=1.7213), Var(v=0.0021, grad=0.1769), Var(v=-0.2304, grad=0.0000), Var(v=-0.0194, grad=0.0000), Var(v=-0.0975, grad=0.0000), Var(v=0.0366, grad=0.8690), Var(v=-0.0438, grad=0.0000), Var(v=-0.1408, grad=0.3149), Var(v=0.0772, grad=-0.6780), Var(v=0.0547, grad=-0.6557), Var(v=0.0368, grad=0.0163), Var(v=-0.0324, grad=0.0000), Var(v=-0.1160, grad=0.0000), Var(v=0.0839, grad=0.0410), Var(v=0.1385, grad=-0.0794), Var(v=0.0866, grad=0.0000), Var(v=-0.0046, grad=0.0000), Var(v=-0.1853, grad=0.0000), Var(v=0.0437, grad=0.0000), Var(v=-0.0114, grad=0.0018), Var(v=0.1124, grad=-1.3652), Var(v=-0.0288, grad=-0.3881), Var(v=0.0243, grad=0.2065), Var(v=0.1309, grad=-0.8258), Var(v=0.0166, grad=0.0000), Var(v=0.0168, grad=0.0000), Var(v=-0.0377, grad=0.0000), Var(v=-0.0729, grad=0.0000), Var(v=-0.1069, grad=-0.6400), Var(v=-0.0441, grad=-1.2338), Var(v=0.1823, grad=0.0000), Var(v=0.0610, grad=0.7348), Var(v=-0.1135, grad=0.0000), Var(v=0.2341, grad=-1.8783), Var(v=0.1027, grad=0.0000), Var(v=0.0121, grad=-0.6547), Var(v=0.0904, grad=0.0000)], [Var(v=-0.0644, grad=0.0000), Var(v=-0.0526, grad=0.0000), Var(v=-0.0136, grad=-0.0854), Var(v=-0.0304, grad=-0.0366), Var(v=-0.0316, grad=0.1547), Var(v=-0.0954, grad=0.2182), Var(v=0.0158, grad=0.0000), Var(v=-0.1434, grad=0.3875), Var(v=-0.1190, grad=0.0000), Var(v=0.0142, grad=-0.0468), Var(v=0.0913, grad=0.0000), Var(v=0.0331, grad=-0.1450), Var(v=0.0005, grad=-0.0579), Var(v=0.1557, grad=0.0000), Var(v=-0.0815, grad=0.0000), Var(v=0.3095, grad=-0.1684), Var(v=0.0775, grad=-0.2750), Var(v=0.0429, grad=0.1261), Var(v=-0.0543, grad=-0.1267), Var(v=-0.1580, grad=0.0000), Var(v=0.0210, grad=0.0000), Var(v=-0.0246, grad=0.0000), Var(v=-0.0784, grad=0.0000), Var(v=0.0481, grad=-0.0024), Var(v=0.0182, grad=0.0626), Var(v=-0.0029, grad=0.2716), Var(v=-0.0905, grad=0.0000), Var(v=0.0525, grad=0.0116), Var(v=0.0387, grad=0.2081), Var(v=-0.0362, grad=0.0000), Var(v=0.0763, grad=-0.0545), Var(v=0.0219, grad=0.0000), Var(v=0.0751, grad=0.0000), Var(v=-0.0125, grad=0.0000), Var(v=-0.0069, grad=0.0566), Var(v=-0.0450, grad=-0.0301), Var(v=0.0521, grad=0.0000), Var(v=0.0717, grad=0.0000), Var(v=-0.2108, grad=0.0000), Var(v=-0.0714, grad=-0.0476), Var(v=0.1134, grad=0.0294), Var(v=-0.1147, grad=0.0000), Var(v=-0.0371, grad=0.1799), Var(v=-0.0939, grad=0.0655), Var(v=0.0188, grad=-0.1072), Var(v=0.0350, grad=0.0000), Var(v=0.1670, grad=0.2739), Var(v=0.0145, grad=0.0000), Var(v=0.1357, grad=0.0000), Var(v=0.0473, grad=0.0000)], [Var(v=-0.1119, grad=0.0000), Var(v=0.0265, grad=2.2537), Var(v=-0.0004, grad=0.0000), Var(v=0.0070, grad=0.4285), Var(v=0.0771, grad=-1.8118), Var(v=0.2445, grad=-2.5553), Var(v=0.1899, grad=0.6449), Var(v=-0.0947, grad=0.0000), Var(v=-0.0050, grad=0.0000), Var(v=0.0046, grad=0.5480), Var(v=-0.2173, grad=0.7679), Var(v=-0.1711, grad=0.0000), Var(v=-0.1167, grad=0.6776), Var(v=-0.0614, grad=2.9402), Var(v=0.0237, grad=0.3022), Var(v=0.0497, grad=0.0000), Var(v=-0.0072, grad=0.0000), Var(v=-0.2604, grad=0.0000), Var(v=-0.0300, grad=1.4844), Var(v=0.0536, grad=0.0000), Var(v=0.0287, grad=0.5379), Var(v=-0.0191, grad=-1.1582), Var(v=-0.0406, grad=-1.1201), Var(v=0.1517, grad=0.0278), Var(v=-0.1329, grad=0.0000), Var(v=0.0499, grad=0.0000), Var(v=0.0614, grad=0.0700), Var(v=0.0628, grad=-0.1357), Var(v=-0.0860, grad=0.0000), Var(v=0.0055, grad=0.0000), Var(v=-0.2070, grad=0.0000), Var(v=-0.1071, grad=0.0000), Var(v=0.0650, grad=0.0030), Var(v=0.0179, grad=-2.3320), Var(v=0.0719, grad=-0.6629), Var(v=-0.1368, grad=0.3527), Var(v=0.0395, grad=-1.4106), Var(v=-0.1468, grad=0.0000), Var(v=0.0356, grad=0.0000), Var(v=-0.0989, grad=0.0000), Var(v=-0.1304, grad=0.0000), Var(v=0.0828, grad=-1.0931), Var(v=0.2529, grad=-2.1075), Var(v=0.0134, grad=0.0000), Var(v=-0.1302, grad=1.2551), Var(v=-0.0072, grad=0.0000), Var(v=0.0401, grad=-3.2084), Var(v=-0.1419, grad=0.0000), Var(v=-0.0576, grad=-1.1183), Var(v=-0.0823, grad=0.0000)], [Var(v=-0.1042, grad=0.0000), Var(v=0.1657, grad=1.8842), Var(v=0.1066, grad=0.0000), Var(v=-0.0374, grad=0.3582), Var(v=0.0529, grad=-1.5148), Var(v=-0.0960, grad=-2.1364), Var(v=0.0042, grad=0.5392), Var(v=0.0569, grad=0.0000), Var(v=0.0108, grad=0.0000), Var(v=0.0430, grad=0.4581), Var(v=0.0587, grad=0.6420), Var(v=-0.1343, grad=0.0000), Var(v=0.0540, grad=0.5665), Var(v=0.0669, grad=2.4581), Var(v=0.0360, grad=0.2527), Var(v=0.0673, grad=0.0000), Var(v=0.0299, grad=0.0000), Var(v=-0.0953, grad=0.0000), Var(v=0.0016, grad=1.2410), Var(v=-0.1263, grad=0.0000), Var(v=-0.0032, grad=0.4497), Var(v=-0.0171, grad=-0.9683), Var(v=-0.0670, grad=-0.9364), Var(v=0.0555, grad=0.0233), Var(v=-0.0214, grad=0.0000), Var(v=-0.1084, grad=0.0000), Var(v=-0.0043, grad=0.0586), Var(v=0.1118, grad=-0.1134), Var(v=0.1098, grad=0.0000), Var(v=0.0182, grad=0.0000), Var(v=-0.0732, grad=0.0000), Var(v=0.0465, grad=0.0000), Var(v=0.0107, grad=0.0025), Var(v=-0.1309, grad=-1.9497), Var(v=0.0697, grad=-0.5543), Var(v=0.1718, grad=0.2949), Var(v=-0.0972, grad=-1.1793), Var(v=-0.0554, grad=0.0000), Var(v=0.0944, grad=0.0000), Var(v=-0.1067, grad=0.0000), Var(v=0.0835, grad=0.0000), Var(v=0.1816, grad=-0.9139), Var(v=-0.0381, grad=-1.7619), Var(v=0.0044, grad=0.0000), Var(v=0.0839, grad=1.0493), Var(v=0.0986, grad=0.0000), Var(v=0.0409, grad=-2.6824), Var(v=-0.1322, grad=0.0000), Var(v=-0.0569, grad=-0.9350), Var(v=0.0753, grad=0.0000)], [Var(v=0.0390, grad=0.0000), Var(v=0.0284, grad=0.0000), Var(v=0.0859, grad=-0.0667), Var(v=-0.1706, grad=-0.0286), Var(v=0.0813, grad=0.1208), Var(v=-0.0896, grad=0.1703), Var(v=-0.0292, grad=0.0000), Var(v=0.0775, grad=0.3025), Var(v=0.1356, grad=0.0000), Var(v=-0.1376, grad=-0.0365), Var(v=0.0267, grad=0.0000), Var(v=-0.0685, grad=-0.1132), Var(v=0.1463, grad=-0.0452), Var(v=-0.1540, grad=0.0000), Var(v=0.0643, grad=0.0000), Var(v=0.0279, grad=-0.1314), Var(v=0.0238, grad=-0.2147), Var(v=-0.1678, grad=0.0984), Var(v=-0.0938, grad=-0.0989), Var(v=-0.2110, grad=0.0000), Var(v=0.2173, grad=0.0000), Var(v=0.0947, grad=0.0000), Var(v=-0.0290, grad=0.0000), Var(v=-0.0210, grad=-0.0019), Var(v=0.0460, grad=0.0489), Var(v=0.0174, grad=0.2120), Var(v=-0.1549, grad=0.0000), Var(v=0.0093, grad=0.0090), Var(v=-0.0333, grad=0.1625), Var(v=0.0313, grad=0.0000), Var(v=0.0867, grad=-0.0426), Var(v=-0.1757, grad=0.0000), Var(v=-0.0152, grad=0.0000), Var(v=-0.0595, grad=0.0000), Var(v=0.1336, grad=0.0442), Var(v=0.0657, grad=-0.0235), Var(v=0.1119, grad=0.0000), Var(v=-0.0784, grad=0.0000), Var(v=-0.0172, grad=0.0000), Var(v=-0.0167, grad=-0.0372), Var(v=0.1383, grad=0.0229), Var(v=-0.0163, grad=0.0000), Var(v=0.0614, grad=0.1405), Var(v=-0.0054, grad=0.0511), Var(v=0.0207, grad=-0.0837), Var(v=-0.0482, grad=0.0000), Var(v=0.0320, grad=0.2139), Var(v=-0.1564, grad=0.0000), Var(v=-0.0018, grad=0.0000), Var(v=0.1181, grad=0.0000)], [Var(v=0.0010, grad=0.0000), Var(v=0.1016, grad=1.1753), Var(v=-0.0052, grad=0.0000), Var(v=-0.0385, grad=0.2235), Var(v=0.0467, grad=-0.9449), Var(v=0.0936, grad=-1.3326), Var(v=-0.0987, grad=0.3363), Var(v=-0.0128, grad=0.0000), Var(v=-0.0993, grad=0.0000), Var(v=-0.0280, grad=0.2858), Var(v=0.2618, grad=0.4005), Var(v=0.1062, grad=0.0000), Var(v=0.0379, grad=0.3534), Var(v=-0.0096, grad=1.5333), Var(v=0.0243, grad=0.1576), Var(v=-0.0139, grad=0.0000), Var(v=0.0210, grad=0.0000), Var(v=0.1302, grad=0.0000), Var(v=0.0921, grad=0.7741), Var(v=-0.0923, grad=0.0000), Var(v=0.1025, grad=0.2805), Var(v=0.1353, grad=-0.6040), Var(v=0.0875, grad=-0.5841), Var(v=-0.1250, grad=0.0145), Var(v=-0.2264, grad=0.0000), Var(v=0.0103, grad=0.0000), Var(v=-0.0759, grad=0.0365), Var(v=0.0558, grad=-0.0708), Var(v=-0.1339, grad=0.0000), Var(v=-0.1257, grad=0.0000), Var(v=-0.0508, grad=0.0000), Var(v=-0.0843, grad=0.0000), Var(v=-0.0559, grad=0.0016), Var(v=0.1164, grad=-1.2161), Var(v=-0.0250, grad=-0.3457), Var(v=0.0640, grad=0.1839), Var(v=-0.0346, grad=-0.7356), Var(v=0.0255, grad=0.0000), Var(v=-0.1526, grad=0.0000), Var(v=-0.0015, grad=0.0000), Var(v=0.0294, grad=0.0000), Var(v=0.1959, grad=-0.5701), Var(v=0.0938, grad=-1.0990), Var(v=-0.0092, grad=0.0000), Var(v=0.1648, grad=0.6545), Var(v=-0.1827, grad=0.0000), Var(v=0.0380, grad=-1.6732), Var(v=-0.0070, grad=0.0000), Var(v=0.0057, grad=-0.5832), Var(v=-0.0947, grad=0.0000)], [Var(v=-0.0439, grad=0.0000), Var(v=0.0079, grad=1.3828), Var(v=-0.0203, grad=0.0000), Var(v=0.0527, grad=0.2629), Var(v=0.0594, grad=-1.1117), Var(v=-0.0061, grad=-1.5679), Var(v=0.1055, grad=0.3957), Var(v=0.1354, grad=0.0000), Var(v=-0.2804, grad=0.0000), Var(v=0.2511, grad=0.3362), Var(v=0.0757, grad=0.4712), Var(v=-0.0650, grad=0.0000), Var(v=0.0806, grad=0.4157), Var(v=0.0550, grad=1.8040), Var(v=0.2204, grad=0.1855), Var(v=-0.2143, grad=0.0000), Var(v=-0.1165, grad=0.0000), Var(v=-0.0600, grad=0.0000), Var(v=0.1226, grad=0.9108), Var(v=0.0084, grad=0.0000), Var(v=-0.0576, grad=0.3300), Var(v=0.0825, grad=-0.7106), Var(v=0.0061, grad=-0.6872), Var(v=0.0975, grad=0.0171), Var(v=-0.0475, grad=0.0000), Var(v=0.0618, grad=0.0000), Var(v=0.0694, grad=0.0430), Var(v=-0.1168, grad=-0.0832), Var(v=-0.1223, grad=0.0000), Var(v=0.1262, grad=0.0000), Var(v=0.1067, grad=0.0000), Var(v=-0.0386, grad=0.0000), Var(v=-0.0374, grad=0.0019), Var(v=0.1308, grad=-1.4309), Var(v=0.0654, grad=-0.4068), Var(v=0.0535, grad=0.2164), Var(v=0.0602, grad=-0.8655), Var(v=0.0446, grad=0.0000), Var(v=-0.0853, grad=0.0000), Var(v=0.0779, grad=0.0000), Var(v=-0.0657, grad=0.0000), Var(v=0.1251, grad=-0.6707), Var(v=-0.0047, grad=-1.2931), Var(v=-0.1120, grad=0.0000), Var(v=-0.1225, grad=0.7701), Var(v=0.0253, grad=0.0000), Var(v=0.0866, grad=-1.9686), Var(v=-0.0833, grad=0.0000), Var(v=0.0598, grad=-0.6862), Var(v=0.0848, grad=0.0000)], [Var(v=-0.1972, grad=0.0000), Var(v=0.1622, grad=0.5020), Var(v=-0.0324, grad=0.0000), Var(v=0.1306, grad=0.0954), Var(v=-0.1699, grad=-0.4036), Var(v=-0.1289, grad=-0.5692), Var(v=-0.0615, grad=0.1437), Var(v=0.0908, grad=0.0000), Var(v=0.1231, grad=0.0000), Var(v=-0.0832, grad=0.1221), Var(v=0.1545, grad=0.1711), Var(v=-0.0402, grad=0.0000), Var(v=-0.0109, grad=0.1509), Var(v=0.0039, grad=0.6549), Var(v=0.0025, grad=0.0673), Var(v=0.0620, grad=0.0000), Var(v=-0.0685, grad=0.0000), Var(v=-0.1841, grad=0.0000), Var(v=0.1072, grad=0.3307), Var(v=0.0549, grad=0.0000), Var(v=0.1403, grad=0.1198), Var(v=0.0433, grad=-0.2580), Var(v=0.2146, grad=-0.2495), Var(v=0.0073, grad=0.0062), Var(v=0.0248, grad=0.0000), Var(v=0.0391, grad=0.0000), Var(v=0.1173, grad=0.0156), Var(v=-0.0557, grad=-0.0302), Var(v=0.0278, grad=0.0000), Var(v=-0.0119, grad=0.0000), Var(v=0.0089, grad=0.0000), Var(v=-0.0377, grad=0.0000), Var(v=-0.0670, grad=0.0007), Var(v=-0.0885, grad=-0.5195), Var(v=0.0655, grad=-0.1477), Var(v=-0.0093, grad=0.0786), Var(v=-0.0828, grad=-0.3142), Var(v=-0.0077, grad=0.0000), Var(v=0.0982, grad=0.0000), Var(v=0.1202, grad=0.0000), Var(v=-0.1253, grad=0.0000), Var(v=0.0451, grad=-0.2435), Var(v=-0.0409, grad=-0.4694), Var(v=0.0634, grad=0.0000), Var(v=-0.0299, grad=0.2796), Var(v=-0.0389, grad=0.0000), Var(v=0.0230, grad=-0.7147), Var(v=0.0054, grad=0.0000), Var(v=0.0457, grad=-0.2491), Var(v=-0.0645, grad=0.0000)], [Var(v=-0.0936, grad=0.0000), Var(v=-0.1914, grad=0.0000), Var(v=0.1382, grad=-0.1100), Var(v=0.0487, grad=-0.0471), Var(v=0.1647, grad=0.1991), Var(v=-0.0377, grad=0.2808), Var(v=-0.0063, grad=0.0000), Var(v=0.1928, grad=0.4988), Var(v=0.0545, grad=0.0000), Var(v=0.0121, grad=-0.0602), Var(v=0.0319, grad=0.0000), Var(v=0.0384, grad=-0.1867), Var(v=0.0200, grad=-0.0745), Var(v=0.0601, grad=0.0000), Var(v=-0.1466, grad=0.0000), Var(v=0.0405, grad=-0.2167), Var(v=0.0829, grad=-0.3539), Var(v=-0.0906, grad=0.1622), Var(v=0.1830, grad=-0.1631), Var(v=-0.0723, grad=0.0000), Var(v=-0.0717, grad=0.0000), Var(v=0.1293, grad=0.0000), Var(v=-0.1083, grad=0.0000), Var(v=-0.0985, grad=-0.0031), Var(v=-0.0093, grad=0.0806), Var(v=0.0185, grad=0.3496), Var(v=0.1388, grad=0.0000), Var(v=-0.0932, grad=0.0149), Var(v=0.1729, grad=0.2679), Var(v=0.0561, grad=0.0000), Var(v=0.0378, grad=-0.0702), Var(v=0.0031, grad=0.0000), Var(v=-0.0622, grad=0.0000), Var(v=0.0853, grad=0.0000), Var(v=0.0779, grad=0.0729), Var(v=0.1088, grad=-0.0388), Var(v=0.0003, grad=0.0000), Var(v=0.0810, grad=0.0000), Var(v=0.1655, grad=0.0000), Var(v=-0.1938, grad=-0.0613), Var(v=-0.0549, grad=0.0378), Var(v=-0.0548, grad=0.0000), Var(v=-0.0069, grad=0.2316), Var(v=0.0504, grad=0.0843), Var(v=0.1065, grad=-0.1379), Var(v=0.0200, grad=0.0000), Var(v=0.1195, grad=0.3526), Var(v=-0.0745, grad=0.0000), Var(v=0.0346, grad=0.0000), Var(v=-0.0940, grad=0.0000)], [Var(v=-0.0913, grad=0.0000), Var(v=-0.0855, grad=0.0000), Var(v=0.0196, grad=-0.0323), Var(v=0.0782, grad=-0.0138), Var(v=0.1942, grad=0.0585), Var(v=-0.0701, grad=0.0825), Var(v=-0.2161, grad=0.0000), Var(v=0.0709, grad=0.1466), Var(v=-0.0598, grad=0.0000), Var(v=0.0942, grad=-0.0177), Var(v=0.0607, grad=0.0000), Var(v=-0.0767, grad=-0.0549), Var(v=0.0192, grad=-0.0219), Var(v=0.1023, grad=0.0000), Var(v=-0.0041, grad=0.0000), Var(v=-0.0036, grad=-0.0637), Var(v=-0.1407, grad=-0.1040), Var(v=0.0597, grad=0.0477), Var(v=-0.0063, grad=-0.0479), Var(v=0.1737, grad=0.0000), Var(v=0.0485, grad=0.0000), Var(v=-0.0153, grad=0.0000), Var(v=0.0065, grad=0.0000), Var(v=-0.0113, grad=-0.0009), Var(v=-0.0823, grad=0.0237), Var(v=-0.1878, grad=0.1027), Var(v=0.0741, grad=0.0000), Var(v=-0.0938, grad=0.0044), Var(v=-0.0187, grad=0.0787), Var(v=0.0684, grad=0.0000), Var(v=0.0088, grad=-0.0206), Var(v=-0.0750, grad=0.0000), Var(v=-0.0169, grad=0.0000), Var(v=0.0638, grad=0.0000), Var(v=0.2405, grad=0.0214), Var(v=-0.1010, grad=-0.0114), Var(v=-0.0296, grad=0.0000), Var(v=0.1795, grad=0.0000), Var(v=0.0902, grad=0.0000), Var(v=0.0831, grad=-0.0180), Var(v=-0.1143, grad=0.0111), Var(v=0.0524, grad=0.0000), Var(v=-0.0212, grad=0.0681), Var(v=0.0205, grad=0.0248), Var(v=-0.1324, grad=-0.0405), Var(v=0.0937, grad=0.0000), Var(v=0.0398, grad=0.1036), Var(v=-0.1522, grad=0.0000), Var(v=-0.1080, grad=0.0000), Var(v=-0.0444, grad=0.0000)], [Var(v=-0.1646, grad=0.0000), Var(v=-0.0674, grad=0.0000), Var(v=0.1217, grad=-0.7913), Var(v=0.2122, grad=-0.3388), Var(v=-0.0258, grad=1.4327), Var(v=0.0442, grad=2.0206), Var(v=-0.0037, grad=0.0000), Var(v=0.0709, grad=3.5888), Var(v=-0.0243, grad=0.0000), Var(v=0.0918, grad=-0.4333), Var(v=-0.0726, grad=0.0000), Var(v=0.0689, grad=-1.3432), Var(v=0.1227, grad=-0.5358), Var(v=-0.0537, grad=0.0000), Var(v=0.0047, grad=0.0000), Var(v=0.0725, grad=-1.5592), Var(v=0.1266, grad=-2.5464), Var(v=0.0643, grad=1.1674), Var(v=0.1013, grad=-1.1737), Var(v=-0.0807, grad=0.0000), Var(v=-0.0329, grad=0.0000), Var(v=-0.0457, grad=0.0000), Var(v=-0.0110, grad=0.0000), Var(v=0.0321, grad=-0.0220), Var(v=0.0743, grad=0.5802), Var(v=0.1646, grad=2.5155), Var(v=-0.0878, grad=0.0000), Var(v=0.0002, grad=0.1073), Var(v=0.2214, grad=1.9273), Var(v=-0.0787, grad=0.0000), Var(v=0.1195, grad=-0.5050), Var(v=-0.0628, grad=0.0000), Var(v=-0.0537, grad=0.0000), Var(v=-0.1143, grad=0.0000), Var(v=0.0933, grad=0.5242), Var(v=0.0879, grad=-0.2789), Var(v=-0.1407, grad=0.0000), Var(v=-0.0765, grad=0.0000), Var(v=-0.0098, grad=0.0000), Var(v=0.1286, grad=-0.4409), Var(v=0.2244, grad=0.2719), Var(v=-0.0974, grad=0.0000), Var(v=0.2328, grad=1.6664), Var(v=0.0173, grad=0.6063), Var(v=0.1117, grad=-0.9924), Var(v=-0.0917, grad=0.0000), Var(v=0.0318, grad=2.5370), Var(v=-0.1266, grad=0.0000), Var(v=-0.0241, grad=0.0000), Var(v=-0.0621, grad=0.0000)], [Var(v=0.0882, grad=0.0000), Var(v=-0.0335, grad=1.4331), Var(v=-0.1639, grad=0.0000), Var(v=-0.0506, grad=0.2725), Var(v=0.0320, grad=-1.1521), Var(v=-0.1168, grad=-1.6248), Var(v=-0.1839, grad=0.4101), Var(v=-0.1060, grad=0.0000), Var(v=0.0631, grad=0.0000), Var(v=-0.0160, grad=0.3484), Var(v=-0.0085, grad=0.4883), Var(v=-0.1183, grad=0.0000), Var(v=-0.0599, grad=0.4308), Var(v=0.1118, grad=1.8695), Var(v=0.0267, grad=0.1922), Var(v=0.0621, grad=0.0000), Var(v=-0.2116, grad=0.0000), Var(v=-0.0153, grad=0.0000), Var(v=-0.1770, grad=0.9439), Var(v=-0.1137, grad=0.0000), Var(v=-0.0525, grad=0.3420), Var(v=-0.0333, grad=-0.7364), Var(v=0.0632, grad=-0.7122), Var(v=-0.0496, grad=0.0177), Var(v=0.0904, grad=0.0000), Var(v=-0.0192, grad=0.0000), Var(v=-0.0247, grad=0.0445), Var(v=0.0667, grad=-0.0863), Var(v=0.0204, grad=0.0000), Var(v=-0.2011, grad=0.0000), Var(v=0.0526, grad=0.0000), Var(v=0.2027, grad=0.0000), Var(v=0.1135, grad=0.0019), Var(v=0.0493, grad=-1.4828), Var(v=-0.0020, grad=-0.4215), Var(v=0.0322, grad=0.2243), Var(v=0.1489, grad=-0.8969), Var(v=-0.1036, grad=0.0000), Var(v=0.0162, grad=0.0000), Var(v=-0.1318, grad=0.0000), Var(v=0.0502, grad=0.0000), Var(v=-0.1650, grad=-0.6951), Var(v=0.0478, grad=-1.3400), Var(v=0.1167, grad=0.0000), Var(v=0.0776, grad=0.7981), Var(v=-0.1644, grad=0.0000), Var(v=0.0046, grad=-2.0401), Var(v=-0.0138, grad=0.0000), Var(v=0.1186, grad=-0.7111), Var(v=-0.1020, grad=0.0000)], [Var(v=-0.2545, grad=0.0000), Var(v=0.0201, grad=1.2118), Var(v=-0.2095, grad=0.0000), Var(v=-0.0148, grad=0.2304), Var(v=0.0039, grad=-0.9742), Var(v=0.0978, grad=-1.3739), Var(v=-0.1322, grad=0.3467), Var(v=-0.0232, grad=0.0000), Var(v=0.1723, grad=0.0000), Var(v=0.0640, grad=0.2946), Var(v=0.1219, grad=0.4129), Var(v=-0.0920, grad=0.0000), Var(v=0.0664, grad=0.3643), Var(v=-0.0466, grad=1.5809), Var(v=0.0182, grad=0.1625), Var(v=0.0674, grad=0.0000), Var(v=0.0489, grad=0.0000), Var(v=-0.0610, grad=0.0000), Var(v=0.1862, grad=0.7981), Var(v=-0.0885, grad=0.0000), Var(v=0.1130, grad=0.2892), Var(v=-0.0163, grad=-0.6227), Var(v=-0.0093, grad=-0.6022), Var(v=0.1262, grad=0.0150), Var(v=-0.0938, grad=0.0000), Var(v=-0.0645, grad=0.0000), Var(v=0.0419, grad=0.0377), Var(v=-0.0718, grad=-0.0729), Var(v=0.0072, grad=0.0000), Var(v=-0.0296, grad=0.0000), Var(v=-0.0844, grad=0.0000), Var(v=-0.0490, grad=0.0000), Var(v=0.1734, grad=0.0016), Var(v=0.0709, grad=-1.2539), Var(v=0.0821, grad=-0.3565), Var(v=0.1355, grad=0.1896), Var(v=0.1229, grad=-0.7584), Var(v=0.1289, grad=0.0000), Var(v=-0.2080, grad=0.0000), Var(v=-0.0494, grad=0.0000), Var(v=-0.0069, grad=0.0000), Var(v=0.1640, grad=-0.5877), Var(v=0.0662, grad=-1.1331), Var(v=-0.1641, grad=0.0000), Var(v=0.1093, grad=0.6748), Var(v=-0.0268, grad=0.0000), Var(v=0.0042, grad=-1.7251), Var(v=-0.1183, grad=0.0000), Var(v=0.1232, grad=-0.6013), Var(v=-0.1204, grad=0.0000)], [Var(v=0.0651, grad=0.0000), Var(v=0.0713, grad=0.0000), Var(v=0.1285, grad=-0.0968), Var(v=0.0102, grad=-0.0414), Var(v=-0.0425, grad=0.1752), Var(v=0.0456, grad=0.2471), Var(v=0.0030, grad=0.0000), Var(v=0.0474, grad=0.4389), Var(v=-0.1131, grad=0.0000), Var(v=0.1859, grad=-0.0530), Var(v=-0.0376, grad=0.0000), Var(v=-0.0128, grad=-0.1643), Var(v=-0.0727, grad=-0.0655), Var(v=-0.1067, grad=0.0000), Var(v=-0.1275, grad=0.0000), Var(v=0.0577, grad=-0.1907), Var(v=0.2168, grad=-0.3114), Var(v=0.0425, grad=0.1428), Var(v=0.1051, grad=-0.1436), Var(v=-0.0519, grad=0.0000), Var(v=-0.1070, grad=0.0000), Var(v=0.0656, grad=0.0000), Var(v=-0.0968, grad=0.0000), Var(v=0.0375, grad=-0.0027), Var(v=-0.0295, grad=0.0710), Var(v=0.0712, grad=0.3077), Var(v=0.1264, grad=0.0000), Var(v=0.0933, grad=0.0131), Var(v=-0.0628, grad=0.2357), Var(v=0.0679, grad=0.0000), Var(v=0.1297, grad=-0.0618), Var(v=-0.0273, grad=0.0000), Var(v=-0.0458, grad=0.0000), Var(v=-0.0426, grad=0.0000), Var(v=-0.0156, grad=0.0641), Var(v=-0.0698, grad=-0.0341), Var(v=0.0177, grad=0.0000), Var(v=0.0823, grad=0.0000), Var(v=0.0065, grad=0.0000), Var(v=0.0015, grad=-0.0539), Var(v=-0.1493, grad=0.0333), Var(v=0.0418, grad=0.0000), Var(v=-0.0842, grad=0.2038), Var(v=-0.1399, grad=0.0742), Var(v=0.1258, grad=-0.1214), Var(v=0.0506, grad=0.0000), Var(v=-0.0040, grad=0.3103), Var(v=0.0682, grad=0.0000), Var(v=-0.2114, grad=0.0000), Var(v=0.0701, grad=0.0000)]] Biases: [Var(v=0.0000, grad=0.0000), Var(v=-0.1094, grad=10.9446), Var(v=0.0494, grad=-4.9423), Var(v=0.0004, grad=-0.0354), Var(v=-0.0015, grad=0.1495), Var(v=-0.0021, grad=0.2109), Var(v=-0.0313, grad=3.1318), Var(v=-0.2241, grad=22.4146), Var(v=0.0000, grad=0.0000), Var(v=0.0005, grad=-0.0452), Var(v=-0.0373, grad=3.7291), Var(v=0.0839, grad=-8.3892), Var(v=0.0006, grad=-0.0559), Var(v=-0.1428, grad=14.2781), Var(v=-0.0147, grad=1.4678), Var(v=0.0974, grad=-9.7386), Var(v=0.1590, grad=-15.9046), Var(v=-0.0729, grad=7.2911), Var(v=0.0012, grad=-0.1225), Var(v=0.0000, grad=0.0000), Var(v=-0.0261, grad=2.6122), Var(v=0.0562, grad=-5.6243), Var(v=0.0544, grad=-5.4393), Var(v=0.0000, grad=-0.0023), Var(v=-0.0362, grad=3.6237), Var(v=-0.1571, grad=15.7113), Var(v=-0.0034, grad=0.3401), Var(v=-0.0001, grad=0.0112), Var(v=-0.1204, grad=12.0373), Var(v=0.0000, grad=0.0000), Var(v=0.0315, grad=-3.1539), Var(v=0.0000, grad=0.0000), Var(v=-0.0001, grad=0.0147), Var(v=0.1132, grad=-11.3247), Var(v=-0.0005, grad=0.0547), Var(v=0.0003, grad=-0.0291), Var(v=0.0685, grad=-6.8501), Var(v=0.0000, grad=0.0000), Var(v=0.0000, grad=0.0000), Var(v=0.0275, grad=-2.7539), Var(v=-0.0170, grad=1.6985), Var(v=0.0531, grad=-5.3085), Var(v=-0.0017, grad=0.1739), Var(v=-0.0379, grad=3.7868), Var(v=0.0010, grad=-0.1036), Var(v=0.0000, grad=0.0000), Var(v=-0.0026, grad=0.2648), Var(v=0.0000, grad=0.0000), Var(v=0.0543, grad=-5.4308), Var(v=0.0000, grad=0.0000)]\n",
            "Layer 2 \n",
            " Weights: [[Var(v=-0.1671, grad=0.0000)], [Var(v=-0.0561, grad=-6.9817)], [Var(v=-0.0778, grad=2.1912)], [Var(v=-0.0428, grad=1.8841)], [Var(v=0.1129, grad=-1.1704)], [Var(v=0.1438, grad=-0.0997)], [Var(v=-0.0356, grad=-0.0418)], [Var(v=0.2344, grad=1.9153)], [Var(v=-0.1522, grad=0.0000)], [Var(v=0.0036, grad=-3.4218)], [Var(v=-0.0390, grad=-0.3864)], [Var(v=-0.1024, grad=0.7532)], [Var(v=-0.0296, grad=-0.8210)], [Var(v=-0.1295, grad=-3.4749)], [Var(v=0.0287, grad=-4.5619)], [Var(v=-0.1249, grad=1.4763)], [Var(v=-0.2001, grad=2.0149)], [Var(v=0.0737, grad=0.8803)], [Var(v=-0.0720, grad=-1.0885)], [Var(v=-0.0547, grad=0.0000)], [Var(v=-0.0207, grad=-0.9305)], [Var(v=0.0950, grad=-3.0315)], [Var(v=0.0802, grad=-1.7607)], [Var(v=0.0387, grad=-4.0278)], [Var(v=0.0300, grad=1.1039)], [Var(v=0.1500, grad=2.7723)], [Var(v=0.0416, grad=-4.5526)], [Var(v=0.0377, grad=-3.0163)], [Var(v=0.0996, grad=3.6612)], [Var(v=-0.1853, grad=0.0000)], [Var(v=-0.0571, grad=2.1404)], [Var(v=0.0309, grad=0.0000)], [Var(v=0.0344, grad=-3.4530)], [Var(v=0.1431, grad=-1.2794)], [Var(v=0.0514, grad=-1.4325)], [Var(v=0.0019, grad=-2.1572)], [Var(v=0.1119, grad=-3.3105)], [Var(v=0.0956, grad=0.0000)], [Var(v=-0.0713, grad=0.0000)], [Var(v=-0.0441, grad=1.2947)], [Var(v=-0.0120, grad=3.1223)], [Var(v=0.1264, grad=-6.5367)], [Var(v=0.1390, grad=-2.1216)], [Var(v=0.0423, grad=0.0541)], [Var(v=-0.0621, grad=-0.8024)], [Var(v=-0.0087, grad=0.0000)], [Var(v=0.1914, grad=-1.2180)], [Var(v=-0.0399, grad=0.0000)], [Var(v=0.0764, grad=-1.3953)], [Var(v=-0.0393, grad=0.0000)]] Biases: [Var(v=-0.0148, grad=1.4772)]\n",
            "\n",
            "Network after zeroing gradients:\n",
            "Layer 0 \n",
            " Weights: [[Var(v=0.1029, grad=0.0000), Var(v=0.1293, grad=0.0000), Var(v=-0.0767, grad=0.0000), Var(v=0.2576, grad=0.0000), Var(v=0.0484, grad=0.0000), Var(v=0.0121, grad=0.0000), Var(v=0.1081, grad=0.0000), Var(v=0.1153, grad=0.0000), Var(v=-0.0361, grad=0.0000), Var(v=0.0338, grad=0.0000), Var(v=0.0346, grad=0.0000), Var(v=-0.0606, grad=0.0000), Var(v=0.1095, grad=0.0000), Var(v=0.1091, grad=0.0000), Var(v=-0.0852, grad=0.0000)]] Biases: [Var(v=0.0137, grad=0.0000), Var(v=0.0221, grad=0.0000), Var(v=0.0554, grad=0.0000), Var(v=0.0693, grad=0.0000), Var(v=-0.0855, grad=0.0000), Var(v=-0.0221, grad=0.0000), Var(v=0.0137, grad=0.0000), Var(v=0.0058, grad=0.0000), Var(v=-0.0649, grad=0.0000), Var(v=-0.0491, grad=0.0000), Var(v=-0.0369, grad=0.0000), Var(v=-0.0772, grad=0.0000), Var(v=-0.0026, grad=0.0000), Var(v=0.0120, grad=0.0000), Var(v=0.0613, grad=0.0000)]\n",
            "Layer 1 \n",
            " Weights: [[Var(v=-0.0982, grad=0.0000), Var(v=0.0159, grad=0.0000), Var(v=-0.0902, grad=0.0000), Var(v=-0.0178, grad=0.0000), Var(v=-0.1125, grad=0.0000), Var(v=-0.1104, grad=0.0000), Var(v=-0.0445, grad=0.0000), Var(v=0.0293, grad=0.0000), Var(v=-0.1522, grad=0.0000), Var(v=0.1160, grad=0.0000), Var(v=-0.1890, grad=0.0000), Var(v=0.1023, grad=0.0000), Var(v=0.1235, grad=0.0000), Var(v=-0.0616, grad=0.0000), Var(v=0.0275, grad=0.0000), Var(v=0.1016, grad=0.0000), Var(v=-0.0894, grad=0.0000), Var(v=-0.0016, grad=0.0000), Var(v=-0.0644, grad=0.0000), Var(v=0.0094, grad=0.0000), Var(v=0.0242, grad=0.0000), Var(v=0.2019, grad=0.0000), Var(v=0.1462, grad=0.0000), Var(v=-0.0160, grad=0.0000), Var(v=-0.0245, grad=0.0000), Var(v=-0.1039, grad=0.0000), Var(v=0.2218, grad=0.0000), Var(v=-0.0219, grad=0.0000), Var(v=-0.0853, grad=0.0000), Var(v=0.1234, grad=0.0000), Var(v=0.1001, grad=0.0000), Var(v=-0.0663, grad=0.0000), Var(v=0.0551, grad=0.0000), Var(v=-0.0158, grad=0.0000), Var(v=0.0159, grad=0.0000), Var(v=-0.0025, grad=0.0000), Var(v=0.0829, grad=0.0000), Var(v=0.0852, grad=0.0000), Var(v=-0.1374, grad=0.0000), Var(v=0.0677, grad=0.0000), Var(v=0.0341, grad=0.0000), Var(v=0.1246, grad=0.0000), Var(v=0.1774, grad=0.0000), Var(v=-0.1392, grad=0.0000), Var(v=0.0275, grad=0.0000), Var(v=-0.0338, grad=0.0000), Var(v=-0.0651, grad=0.0000), Var(v=0.0212, grad=0.0000), Var(v=0.0522, grad=0.0000), Var(v=0.0678, grad=0.0000)], [Var(v=-0.0557, grad=0.0000), Var(v=0.0871, grad=0.0000), Var(v=-0.1679, grad=0.0000), Var(v=0.1206, grad=0.0000), Var(v=0.0599, grad=0.0000), Var(v=0.0522, grad=0.0000), Var(v=-0.0078, grad=0.0000), Var(v=-0.1633, grad=0.0000), Var(v=-0.1461, grad=0.0000), Var(v=0.0198, grad=0.0000), Var(v=-0.0394, grad=0.0000), Var(v=0.0320, grad=0.0000), Var(v=0.1120, grad=0.0000), Var(v=0.0789, grad=0.0000), Var(v=0.0021, grad=0.0000), Var(v=-0.2304, grad=0.0000), Var(v=-0.0194, grad=0.0000), Var(v=-0.0975, grad=0.0000), Var(v=0.0366, grad=0.0000), Var(v=-0.0438, grad=0.0000), Var(v=-0.1408, grad=0.0000), Var(v=0.0772, grad=0.0000), Var(v=0.0547, grad=0.0000), Var(v=0.0368, grad=0.0000), Var(v=-0.0324, grad=0.0000), Var(v=-0.1160, grad=0.0000), Var(v=0.0839, grad=0.0000), Var(v=0.1385, grad=0.0000), Var(v=0.0866, grad=0.0000), Var(v=-0.0046, grad=0.0000), Var(v=-0.1853, grad=0.0000), Var(v=0.0437, grad=0.0000), Var(v=-0.0114, grad=0.0000), Var(v=0.1124, grad=0.0000), Var(v=-0.0288, grad=0.0000), Var(v=0.0243, grad=0.0000), Var(v=0.1309, grad=0.0000), Var(v=0.0166, grad=0.0000), Var(v=0.0168, grad=0.0000), Var(v=-0.0377, grad=0.0000), Var(v=-0.0729, grad=0.0000), Var(v=-0.1069, grad=0.0000), Var(v=-0.0441, grad=0.0000), Var(v=0.1823, grad=0.0000), Var(v=0.0610, grad=0.0000), Var(v=-0.1135, grad=0.0000), Var(v=0.2341, grad=0.0000), Var(v=0.1027, grad=0.0000), Var(v=0.0121, grad=0.0000), Var(v=0.0904, grad=0.0000)], [Var(v=-0.0644, grad=0.0000), Var(v=-0.0526, grad=0.0000), Var(v=-0.0136, grad=0.0000), Var(v=-0.0304, grad=0.0000), Var(v=-0.0316, grad=0.0000), Var(v=-0.0954, grad=0.0000), Var(v=0.0158, grad=0.0000), Var(v=-0.1434, grad=0.0000), Var(v=-0.1190, grad=0.0000), Var(v=0.0142, grad=0.0000), Var(v=0.0913, grad=0.0000), Var(v=0.0331, grad=0.0000), Var(v=0.0005, grad=0.0000), Var(v=0.1557, grad=0.0000), Var(v=-0.0815, grad=0.0000), Var(v=0.3095, grad=0.0000), Var(v=0.0775, grad=0.0000), Var(v=0.0429, grad=0.0000), Var(v=-0.0543, grad=0.0000), Var(v=-0.1580, grad=0.0000), Var(v=0.0210, grad=0.0000), Var(v=-0.0246, grad=0.0000), Var(v=-0.0784, grad=0.0000), Var(v=0.0481, grad=0.0000), Var(v=0.0182, grad=0.0000), Var(v=-0.0029, grad=0.0000), Var(v=-0.0905, grad=0.0000), Var(v=0.0525, grad=0.0000), Var(v=0.0387, grad=0.0000), Var(v=-0.0362, grad=0.0000), Var(v=0.0763, grad=0.0000), Var(v=0.0219, grad=0.0000), Var(v=0.0751, grad=0.0000), Var(v=-0.0125, grad=0.0000), Var(v=-0.0069, grad=0.0000), Var(v=-0.0450, grad=0.0000), Var(v=0.0521, grad=0.0000), Var(v=0.0717, grad=0.0000), Var(v=-0.2108, grad=0.0000), Var(v=-0.0714, grad=0.0000), Var(v=0.1134, grad=0.0000), Var(v=-0.1147, grad=0.0000), Var(v=-0.0371, grad=0.0000), Var(v=-0.0939, grad=0.0000), Var(v=0.0188, grad=0.0000), Var(v=0.0350, grad=0.0000), Var(v=0.1670, grad=0.0000), Var(v=0.0145, grad=0.0000), Var(v=0.1357, grad=0.0000), Var(v=0.0473, grad=0.0000)], [Var(v=-0.1119, grad=0.0000), Var(v=0.0265, grad=0.0000), Var(v=-0.0004, grad=0.0000), Var(v=0.0070, grad=0.0000), Var(v=0.0771, grad=0.0000), Var(v=0.2445, grad=0.0000), Var(v=0.1899, grad=0.0000), Var(v=-0.0947, grad=0.0000), Var(v=-0.0050, grad=0.0000), Var(v=0.0046, grad=0.0000), Var(v=-0.2173, grad=0.0000), Var(v=-0.1711, grad=0.0000), Var(v=-0.1167, grad=0.0000), Var(v=-0.0614, grad=0.0000), Var(v=0.0237, grad=0.0000), Var(v=0.0497, grad=0.0000), Var(v=-0.0072, grad=0.0000), Var(v=-0.2604, grad=0.0000), Var(v=-0.0300, grad=0.0000), Var(v=0.0536, grad=0.0000), Var(v=0.0287, grad=0.0000), Var(v=-0.0191, grad=0.0000), Var(v=-0.0406, grad=0.0000), Var(v=0.1517, grad=0.0000), Var(v=-0.1329, grad=0.0000), Var(v=0.0499, grad=0.0000), Var(v=0.0614, grad=0.0000), Var(v=0.0628, grad=0.0000), Var(v=-0.0860, grad=0.0000), Var(v=0.0055, grad=0.0000), Var(v=-0.2070, grad=0.0000), Var(v=-0.1071, grad=0.0000), Var(v=0.0650, grad=0.0000), Var(v=0.0179, grad=0.0000), Var(v=0.0719, grad=0.0000), Var(v=-0.1368, grad=0.0000), Var(v=0.0395, grad=0.0000), Var(v=-0.1468, grad=0.0000), Var(v=0.0356, grad=0.0000), Var(v=-0.0989, grad=0.0000), Var(v=-0.1304, grad=0.0000), Var(v=0.0828, grad=0.0000), Var(v=0.2529, grad=0.0000), Var(v=0.0134, grad=0.0000), Var(v=-0.1302, grad=0.0000), Var(v=-0.0072, grad=0.0000), Var(v=0.0401, grad=0.0000), Var(v=-0.1419, grad=0.0000), Var(v=-0.0576, grad=0.0000), Var(v=-0.0823, grad=0.0000)], [Var(v=-0.1042, grad=0.0000), Var(v=0.1657, grad=0.0000), Var(v=0.1066, grad=0.0000), Var(v=-0.0374, grad=0.0000), Var(v=0.0529, grad=0.0000), Var(v=-0.0960, grad=0.0000), Var(v=0.0042, grad=0.0000), Var(v=0.0569, grad=0.0000), Var(v=0.0108, grad=0.0000), Var(v=0.0430, grad=0.0000), Var(v=0.0587, grad=0.0000), Var(v=-0.1343, grad=0.0000), Var(v=0.0540, grad=0.0000), Var(v=0.0669, grad=0.0000), Var(v=0.0360, grad=0.0000), Var(v=0.0673, grad=0.0000), Var(v=0.0299, grad=0.0000), Var(v=-0.0953, grad=0.0000), Var(v=0.0016, grad=0.0000), Var(v=-0.1263, grad=0.0000), Var(v=-0.0032, grad=0.0000), Var(v=-0.0171, grad=0.0000), Var(v=-0.0670, grad=0.0000), Var(v=0.0555, grad=0.0000), Var(v=-0.0214, grad=0.0000), Var(v=-0.1084, grad=0.0000), Var(v=-0.0043, grad=0.0000), Var(v=0.1118, grad=0.0000), Var(v=0.1098, grad=0.0000), Var(v=0.0182, grad=0.0000), Var(v=-0.0732, grad=0.0000), Var(v=0.0465, grad=0.0000), Var(v=0.0107, grad=0.0000), Var(v=-0.1309, grad=0.0000), Var(v=0.0697, grad=0.0000), Var(v=0.1718, grad=0.0000), Var(v=-0.0972, grad=0.0000), Var(v=-0.0554, grad=0.0000), Var(v=0.0944, grad=0.0000), Var(v=-0.1067, grad=0.0000), Var(v=0.0835, grad=0.0000), Var(v=0.1816, grad=0.0000), Var(v=-0.0381, grad=0.0000), Var(v=0.0044, grad=0.0000), Var(v=0.0839, grad=0.0000), Var(v=0.0986, grad=0.0000), Var(v=0.0409, grad=0.0000), Var(v=-0.1322, grad=0.0000), Var(v=-0.0569, grad=0.0000), Var(v=0.0753, grad=0.0000)], [Var(v=0.0390, grad=0.0000), Var(v=0.0284, grad=0.0000), Var(v=0.0859, grad=0.0000), Var(v=-0.1706, grad=0.0000), Var(v=0.0813, grad=0.0000), Var(v=-0.0896, grad=0.0000), Var(v=-0.0292, grad=0.0000), Var(v=0.0775, grad=0.0000), Var(v=0.1356, grad=0.0000), Var(v=-0.1376, grad=0.0000), Var(v=0.0267, grad=0.0000), Var(v=-0.0685, grad=0.0000), Var(v=0.1463, grad=0.0000), Var(v=-0.1540, grad=0.0000), Var(v=0.0643, grad=0.0000), Var(v=0.0279, grad=0.0000), Var(v=0.0238, grad=0.0000), Var(v=-0.1678, grad=0.0000), Var(v=-0.0938, grad=0.0000), Var(v=-0.2110, grad=0.0000), Var(v=0.2173, grad=0.0000), Var(v=0.0947, grad=0.0000), Var(v=-0.0290, grad=0.0000), Var(v=-0.0210, grad=0.0000), Var(v=0.0460, grad=0.0000), Var(v=0.0174, grad=0.0000), Var(v=-0.1549, grad=0.0000), Var(v=0.0093, grad=0.0000), Var(v=-0.0333, grad=0.0000), Var(v=0.0313, grad=0.0000), Var(v=0.0867, grad=0.0000), Var(v=-0.1757, grad=0.0000), Var(v=-0.0152, grad=0.0000), Var(v=-0.0595, grad=0.0000), Var(v=0.1336, grad=0.0000), Var(v=0.0657, grad=0.0000), Var(v=0.1119, grad=0.0000), Var(v=-0.0784, grad=0.0000), Var(v=-0.0172, grad=0.0000), Var(v=-0.0167, grad=0.0000), Var(v=0.1383, grad=0.0000), Var(v=-0.0163, grad=0.0000), Var(v=0.0614, grad=0.0000), Var(v=-0.0054, grad=0.0000), Var(v=0.0207, grad=0.0000), Var(v=-0.0482, grad=0.0000), Var(v=0.0320, grad=0.0000), Var(v=-0.1564, grad=0.0000), Var(v=-0.0018, grad=0.0000), Var(v=0.1181, grad=0.0000)], [Var(v=0.0010, grad=0.0000), Var(v=0.1016, grad=0.0000), Var(v=-0.0052, grad=0.0000), Var(v=-0.0385, grad=0.0000), Var(v=0.0467, grad=0.0000), Var(v=0.0936, grad=0.0000), Var(v=-0.0987, grad=0.0000), Var(v=-0.0128, grad=0.0000), Var(v=-0.0993, grad=0.0000), Var(v=-0.0280, grad=0.0000), Var(v=0.2618, grad=0.0000), Var(v=0.1062, grad=0.0000), Var(v=0.0379, grad=0.0000), Var(v=-0.0096, grad=0.0000), Var(v=0.0243, grad=0.0000), Var(v=-0.0139, grad=0.0000), Var(v=0.0210, grad=0.0000), Var(v=0.1302, grad=0.0000), Var(v=0.0921, grad=0.0000), Var(v=-0.0923, grad=0.0000), Var(v=0.1025, grad=0.0000), Var(v=0.1353, grad=0.0000), Var(v=0.0875, grad=0.0000), Var(v=-0.1250, grad=0.0000), Var(v=-0.2264, grad=0.0000), Var(v=0.0103, grad=0.0000), Var(v=-0.0759, grad=0.0000), Var(v=0.0558, grad=0.0000), Var(v=-0.1339, grad=0.0000), Var(v=-0.1257, grad=0.0000), Var(v=-0.0508, grad=0.0000), Var(v=-0.0843, grad=0.0000), Var(v=-0.0559, grad=0.0000), Var(v=0.1164, grad=0.0000), Var(v=-0.0250, grad=0.0000), Var(v=0.0640, grad=0.0000), Var(v=-0.0346, grad=0.0000), Var(v=0.0255, grad=0.0000), Var(v=-0.1526, grad=0.0000), Var(v=-0.0015, grad=0.0000), Var(v=0.0294, grad=0.0000), Var(v=0.1959, grad=0.0000), Var(v=0.0938, grad=0.0000), Var(v=-0.0092, grad=0.0000), Var(v=0.1648, grad=0.0000), Var(v=-0.1827, grad=0.0000), Var(v=0.0380, grad=0.0000), Var(v=-0.0070, grad=0.0000), Var(v=0.0057, grad=0.0000), Var(v=-0.0947, grad=0.0000)], [Var(v=-0.0439, grad=0.0000), Var(v=0.0079, grad=0.0000), Var(v=-0.0203, grad=0.0000), Var(v=0.0527, grad=0.0000), Var(v=0.0594, grad=0.0000), Var(v=-0.0061, grad=0.0000), Var(v=0.1055, grad=0.0000), Var(v=0.1354, grad=0.0000), Var(v=-0.2804, grad=0.0000), Var(v=0.2511, grad=0.0000), Var(v=0.0757, grad=0.0000), Var(v=-0.0650, grad=0.0000), Var(v=0.0806, grad=0.0000), Var(v=0.0550, grad=0.0000), Var(v=0.2204, grad=0.0000), Var(v=-0.2143, grad=0.0000), Var(v=-0.1165, grad=0.0000), Var(v=-0.0600, grad=0.0000), Var(v=0.1226, grad=0.0000), Var(v=0.0084, grad=0.0000), Var(v=-0.0576, grad=0.0000), Var(v=0.0825, grad=0.0000), Var(v=0.0061, grad=0.0000), Var(v=0.0975, grad=0.0000), Var(v=-0.0475, grad=0.0000), Var(v=0.0618, grad=0.0000), Var(v=0.0694, grad=0.0000), Var(v=-0.1168, grad=0.0000), Var(v=-0.1223, grad=0.0000), Var(v=0.1262, grad=0.0000), Var(v=0.1067, grad=0.0000), Var(v=-0.0386, grad=0.0000), Var(v=-0.0374, grad=0.0000), Var(v=0.1308, grad=0.0000), Var(v=0.0654, grad=0.0000), Var(v=0.0535, grad=0.0000), Var(v=0.0602, grad=0.0000), Var(v=0.0446, grad=0.0000), Var(v=-0.0853, grad=0.0000), Var(v=0.0779, grad=0.0000), Var(v=-0.0657, grad=0.0000), Var(v=0.1251, grad=0.0000), Var(v=-0.0047, grad=0.0000), Var(v=-0.1120, grad=0.0000), Var(v=-0.1225, grad=0.0000), Var(v=0.0253, grad=0.0000), Var(v=0.0866, grad=0.0000), Var(v=-0.0833, grad=0.0000), Var(v=0.0598, grad=0.0000), Var(v=0.0848, grad=0.0000)], [Var(v=-0.1972, grad=0.0000), Var(v=0.1622, grad=0.0000), Var(v=-0.0324, grad=0.0000), Var(v=0.1306, grad=0.0000), Var(v=-0.1699, grad=0.0000), Var(v=-0.1289, grad=0.0000), Var(v=-0.0615, grad=0.0000), Var(v=0.0908, grad=0.0000), Var(v=0.1231, grad=0.0000), Var(v=-0.0832, grad=0.0000), Var(v=0.1545, grad=0.0000), Var(v=-0.0402, grad=0.0000), Var(v=-0.0109, grad=0.0000), Var(v=0.0039, grad=0.0000), Var(v=0.0025, grad=0.0000), Var(v=0.0620, grad=0.0000), Var(v=-0.0685, grad=0.0000), Var(v=-0.1841, grad=0.0000), Var(v=0.1072, grad=0.0000), Var(v=0.0549, grad=0.0000), Var(v=0.1403, grad=0.0000), Var(v=0.0433, grad=0.0000), Var(v=0.2146, grad=0.0000), Var(v=0.0073, grad=0.0000), Var(v=0.0248, grad=0.0000), Var(v=0.0391, grad=0.0000), Var(v=0.1173, grad=0.0000), Var(v=-0.0557, grad=0.0000), Var(v=0.0278, grad=0.0000), Var(v=-0.0119, grad=0.0000), Var(v=0.0089, grad=0.0000), Var(v=-0.0377, grad=0.0000), Var(v=-0.0670, grad=0.0000), Var(v=-0.0885, grad=0.0000), Var(v=0.0655, grad=0.0000), Var(v=-0.0093, grad=0.0000), Var(v=-0.0828, grad=0.0000), Var(v=-0.0077, grad=0.0000), Var(v=0.0982, grad=0.0000), Var(v=0.1202, grad=0.0000), Var(v=-0.1253, grad=0.0000), Var(v=0.0451, grad=0.0000), Var(v=-0.0409, grad=0.0000), Var(v=0.0634, grad=0.0000), Var(v=-0.0299, grad=0.0000), Var(v=-0.0389, grad=0.0000), Var(v=0.0230, grad=0.0000), Var(v=0.0054, grad=0.0000), Var(v=0.0457, grad=0.0000), Var(v=-0.0645, grad=0.0000)], [Var(v=-0.0936, grad=0.0000), Var(v=-0.1914, grad=0.0000), Var(v=0.1382, grad=0.0000), Var(v=0.0487, grad=0.0000), Var(v=0.1647, grad=0.0000), Var(v=-0.0377, grad=0.0000), Var(v=-0.0063, grad=0.0000), Var(v=0.1928, grad=0.0000), Var(v=0.0545, grad=0.0000), Var(v=0.0121, grad=0.0000), Var(v=0.0319, grad=0.0000), Var(v=0.0384, grad=0.0000), Var(v=0.0200, grad=0.0000), Var(v=0.0601, grad=0.0000), Var(v=-0.1466, grad=0.0000), Var(v=0.0405, grad=0.0000), Var(v=0.0829, grad=0.0000), Var(v=-0.0906, grad=0.0000), Var(v=0.1830, grad=0.0000), Var(v=-0.0723, grad=0.0000), Var(v=-0.0717, grad=0.0000), Var(v=0.1293, grad=0.0000), Var(v=-0.1083, grad=0.0000), Var(v=-0.0985, grad=0.0000), Var(v=-0.0093, grad=0.0000), Var(v=0.0185, grad=0.0000), Var(v=0.1388, grad=0.0000), Var(v=-0.0932, grad=0.0000), Var(v=0.1729, grad=0.0000), Var(v=0.0561, grad=0.0000), Var(v=0.0378, grad=0.0000), Var(v=0.0031, grad=0.0000), Var(v=-0.0622, grad=0.0000), Var(v=0.0853, grad=0.0000), Var(v=0.0779, grad=0.0000), Var(v=0.1088, grad=0.0000), Var(v=0.0003, grad=0.0000), Var(v=0.0810, grad=0.0000), Var(v=0.1655, grad=0.0000), Var(v=-0.1938, grad=0.0000), Var(v=-0.0549, grad=0.0000), Var(v=-0.0548, grad=0.0000), Var(v=-0.0069, grad=0.0000), Var(v=0.0504, grad=0.0000), Var(v=0.1065, grad=0.0000), Var(v=0.0200, grad=0.0000), Var(v=0.1195, grad=0.0000), Var(v=-0.0745, grad=0.0000), Var(v=0.0346, grad=0.0000), Var(v=-0.0940, grad=0.0000)], [Var(v=-0.0913, grad=0.0000), Var(v=-0.0855, grad=0.0000), Var(v=0.0196, grad=0.0000), Var(v=0.0782, grad=0.0000), Var(v=0.1942, grad=0.0000), Var(v=-0.0701, grad=0.0000), Var(v=-0.2161, grad=0.0000), Var(v=0.0709, grad=0.0000), Var(v=-0.0598, grad=0.0000), Var(v=0.0942, grad=0.0000), Var(v=0.0607, grad=0.0000), Var(v=-0.0767, grad=0.0000), Var(v=0.0192, grad=0.0000), Var(v=0.1023, grad=0.0000), Var(v=-0.0041, grad=0.0000), Var(v=-0.0036, grad=0.0000), Var(v=-0.1407, grad=0.0000), Var(v=0.0597, grad=0.0000), Var(v=-0.0063, grad=0.0000), Var(v=0.1737, grad=0.0000), Var(v=0.0485, grad=0.0000), Var(v=-0.0153, grad=0.0000), Var(v=0.0065, grad=0.0000), Var(v=-0.0113, grad=0.0000), Var(v=-0.0823, grad=0.0000), Var(v=-0.1878, grad=0.0000), Var(v=0.0741, grad=0.0000), Var(v=-0.0938, grad=0.0000), Var(v=-0.0187, grad=0.0000), Var(v=0.0684, grad=0.0000), Var(v=0.0088, grad=0.0000), Var(v=-0.0750, grad=0.0000), Var(v=-0.0169, grad=0.0000), Var(v=0.0638, grad=0.0000), Var(v=0.2405, grad=0.0000), Var(v=-0.1010, grad=0.0000), Var(v=-0.0296, grad=0.0000), Var(v=0.1795, grad=0.0000), Var(v=0.0902, grad=0.0000), Var(v=0.0831, grad=0.0000), Var(v=-0.1143, grad=0.0000), Var(v=0.0524, grad=0.0000), Var(v=-0.0212, grad=0.0000), Var(v=0.0205, grad=0.0000), Var(v=-0.1324, grad=0.0000), Var(v=0.0937, grad=0.0000), Var(v=0.0398, grad=0.0000), Var(v=-0.1522, grad=0.0000), Var(v=-0.1080, grad=0.0000), Var(v=-0.0444, grad=0.0000)], [Var(v=-0.1646, grad=0.0000), Var(v=-0.0674, grad=0.0000), Var(v=0.1217, grad=0.0000), Var(v=0.2122, grad=0.0000), Var(v=-0.0258, grad=0.0000), Var(v=0.0442, grad=0.0000), Var(v=-0.0037, grad=0.0000), Var(v=0.0709, grad=0.0000), Var(v=-0.0243, grad=0.0000), Var(v=0.0918, grad=0.0000), Var(v=-0.0726, grad=0.0000), Var(v=0.0689, grad=0.0000), Var(v=0.1227, grad=0.0000), Var(v=-0.0537, grad=0.0000), Var(v=0.0047, grad=0.0000), Var(v=0.0725, grad=0.0000), Var(v=0.1266, grad=0.0000), Var(v=0.0643, grad=0.0000), Var(v=0.1013, grad=0.0000), Var(v=-0.0807, grad=0.0000), Var(v=-0.0329, grad=0.0000), Var(v=-0.0457, grad=0.0000), Var(v=-0.0110, grad=0.0000), Var(v=0.0321, grad=0.0000), Var(v=0.0743, grad=0.0000), Var(v=0.1646, grad=0.0000), Var(v=-0.0878, grad=0.0000), Var(v=0.0002, grad=0.0000), Var(v=0.2214, grad=0.0000), Var(v=-0.0787, grad=0.0000), Var(v=0.1195, grad=0.0000), Var(v=-0.0628, grad=0.0000), Var(v=-0.0537, grad=0.0000), Var(v=-0.1143, grad=0.0000), Var(v=0.0933, grad=0.0000), Var(v=0.0879, grad=0.0000), Var(v=-0.1407, grad=0.0000), Var(v=-0.0765, grad=0.0000), Var(v=-0.0098, grad=0.0000), Var(v=0.1286, grad=0.0000), Var(v=0.2244, grad=0.0000), Var(v=-0.0974, grad=0.0000), Var(v=0.2328, grad=0.0000), Var(v=0.0173, grad=0.0000), Var(v=0.1117, grad=0.0000), Var(v=-0.0917, grad=0.0000), Var(v=0.0318, grad=0.0000), Var(v=-0.1266, grad=0.0000), Var(v=-0.0241, grad=0.0000), Var(v=-0.0621, grad=0.0000)], [Var(v=0.0882, grad=0.0000), Var(v=-0.0335, grad=0.0000), Var(v=-0.1639, grad=0.0000), Var(v=-0.0506, grad=0.0000), Var(v=0.0320, grad=0.0000), Var(v=-0.1168, grad=0.0000), Var(v=-0.1839, grad=0.0000), Var(v=-0.1060, grad=0.0000), Var(v=0.0631, grad=0.0000), Var(v=-0.0160, grad=0.0000), Var(v=-0.0085, grad=0.0000), Var(v=-0.1183, grad=0.0000), Var(v=-0.0599, grad=0.0000), Var(v=0.1118, grad=0.0000), Var(v=0.0267, grad=0.0000), Var(v=0.0621, grad=0.0000), Var(v=-0.2116, grad=0.0000), Var(v=-0.0153, grad=0.0000), Var(v=-0.1770, grad=0.0000), Var(v=-0.1137, grad=0.0000), Var(v=-0.0525, grad=0.0000), Var(v=-0.0333, grad=0.0000), Var(v=0.0632, grad=0.0000), Var(v=-0.0496, grad=0.0000), Var(v=0.0904, grad=0.0000), Var(v=-0.0192, grad=0.0000), Var(v=-0.0247, grad=0.0000), Var(v=0.0667, grad=0.0000), Var(v=0.0204, grad=0.0000), Var(v=-0.2011, grad=0.0000), Var(v=0.0526, grad=0.0000), Var(v=0.2027, grad=0.0000), Var(v=0.1135, grad=0.0000), Var(v=0.0493, grad=0.0000), Var(v=-0.0020, grad=0.0000), Var(v=0.0322, grad=0.0000), Var(v=0.1489, grad=0.0000), Var(v=-0.1036, grad=0.0000), Var(v=0.0162, grad=0.0000), Var(v=-0.1318, grad=0.0000), Var(v=0.0502, grad=0.0000), Var(v=-0.1650, grad=0.0000), Var(v=0.0478, grad=0.0000), Var(v=0.1167, grad=0.0000), Var(v=0.0776, grad=0.0000), Var(v=-0.1644, grad=0.0000), Var(v=0.0046, grad=0.0000), Var(v=-0.0138, grad=0.0000), Var(v=0.1186, grad=0.0000), Var(v=-0.1020, grad=0.0000)], [Var(v=-0.2545, grad=0.0000), Var(v=0.0201, grad=0.0000), Var(v=-0.2095, grad=0.0000), Var(v=-0.0148, grad=0.0000), Var(v=0.0039, grad=0.0000), Var(v=0.0978, grad=0.0000), Var(v=-0.1322, grad=0.0000), Var(v=-0.0232, grad=0.0000), Var(v=0.1723, grad=0.0000), Var(v=0.0640, grad=0.0000), Var(v=0.1219, grad=0.0000), Var(v=-0.0920, grad=0.0000), Var(v=0.0664, grad=0.0000), Var(v=-0.0466, grad=0.0000), Var(v=0.0182, grad=0.0000), Var(v=0.0674, grad=0.0000), Var(v=0.0489, grad=0.0000), Var(v=-0.0610, grad=0.0000), Var(v=0.1862, grad=0.0000), Var(v=-0.0885, grad=0.0000), Var(v=0.1130, grad=0.0000), Var(v=-0.0163, grad=0.0000), Var(v=-0.0093, grad=0.0000), Var(v=0.1262, grad=0.0000), Var(v=-0.0938, grad=0.0000), Var(v=-0.0645, grad=0.0000), Var(v=0.0419, grad=0.0000), Var(v=-0.0718, grad=0.0000), Var(v=0.0072, grad=0.0000), Var(v=-0.0296, grad=0.0000), Var(v=-0.0844, grad=0.0000), Var(v=-0.0490, grad=0.0000), Var(v=0.1734, grad=0.0000), Var(v=0.0709, grad=0.0000), Var(v=0.0821, grad=0.0000), Var(v=0.1355, grad=0.0000), Var(v=0.1229, grad=0.0000), Var(v=0.1289, grad=0.0000), Var(v=-0.2080, grad=0.0000), Var(v=-0.0494, grad=0.0000), Var(v=-0.0069, grad=0.0000), Var(v=0.1640, grad=0.0000), Var(v=0.0662, grad=0.0000), Var(v=-0.1641, grad=0.0000), Var(v=0.1093, grad=0.0000), Var(v=-0.0268, grad=0.0000), Var(v=0.0042, grad=0.0000), Var(v=-0.1183, grad=0.0000), Var(v=0.1232, grad=0.0000), Var(v=-0.1204, grad=0.0000)], [Var(v=0.0651, grad=0.0000), Var(v=0.0713, grad=0.0000), Var(v=0.1285, grad=0.0000), Var(v=0.0102, grad=0.0000), Var(v=-0.0425, grad=0.0000), Var(v=0.0456, grad=0.0000), Var(v=0.0030, grad=0.0000), Var(v=0.0474, grad=0.0000), Var(v=-0.1131, grad=0.0000), Var(v=0.1859, grad=0.0000), Var(v=-0.0376, grad=0.0000), Var(v=-0.0128, grad=0.0000), Var(v=-0.0727, grad=0.0000), Var(v=-0.1067, grad=0.0000), Var(v=-0.1275, grad=0.0000), Var(v=0.0577, grad=0.0000), Var(v=0.2168, grad=0.0000), Var(v=0.0425, grad=0.0000), Var(v=0.1051, grad=0.0000), Var(v=-0.0519, grad=0.0000), Var(v=-0.1070, grad=0.0000), Var(v=0.0656, grad=0.0000), Var(v=-0.0968, grad=0.0000), Var(v=0.0375, grad=0.0000), Var(v=-0.0295, grad=0.0000), Var(v=0.0712, grad=0.0000), Var(v=0.1264, grad=0.0000), Var(v=0.0933, grad=0.0000), Var(v=-0.0628, grad=0.0000), Var(v=0.0679, grad=0.0000), Var(v=0.1297, grad=0.0000), Var(v=-0.0273, grad=0.0000), Var(v=-0.0458, grad=0.0000), Var(v=-0.0426, grad=0.0000), Var(v=-0.0156, grad=0.0000), Var(v=-0.0698, grad=0.0000), Var(v=0.0177, grad=0.0000), Var(v=0.0823, grad=0.0000), Var(v=0.0065, grad=0.0000), Var(v=0.0015, grad=0.0000), Var(v=-0.1493, grad=0.0000), Var(v=0.0418, grad=0.0000), Var(v=-0.0842, grad=0.0000), Var(v=-0.1399, grad=0.0000), Var(v=0.1258, grad=0.0000), Var(v=0.0506, grad=0.0000), Var(v=-0.0040, grad=0.0000), Var(v=0.0682, grad=0.0000), Var(v=-0.2114, grad=0.0000), Var(v=0.0701, grad=0.0000)]] Biases: [Var(v=0.0000, grad=0.0000), Var(v=-0.1094, grad=0.0000), Var(v=0.0494, grad=0.0000), Var(v=0.0004, grad=0.0000), Var(v=-0.0015, grad=0.0000), Var(v=-0.0021, grad=0.0000), Var(v=-0.0313, grad=0.0000), Var(v=-0.2241, grad=0.0000), Var(v=0.0000, grad=0.0000), Var(v=0.0005, grad=0.0000), Var(v=-0.0373, grad=0.0000), Var(v=0.0839, grad=0.0000), Var(v=0.0006, grad=0.0000), Var(v=-0.1428, grad=0.0000), Var(v=-0.0147, grad=0.0000), Var(v=0.0974, grad=0.0000), Var(v=0.1590, grad=0.0000), Var(v=-0.0729, grad=0.0000), Var(v=0.0012, grad=0.0000), Var(v=0.0000, grad=0.0000), Var(v=-0.0261, grad=0.0000), Var(v=0.0562, grad=0.0000), Var(v=0.0544, grad=0.0000), Var(v=0.0000, grad=0.0000), Var(v=-0.0362, grad=0.0000), Var(v=-0.1571, grad=0.0000), Var(v=-0.0034, grad=0.0000), Var(v=-0.0001, grad=0.0000), Var(v=-0.1204, grad=0.0000), Var(v=0.0000, grad=0.0000), Var(v=0.0315, grad=0.0000), Var(v=0.0000, grad=0.0000), Var(v=-0.0001, grad=0.0000), Var(v=0.1132, grad=0.0000), Var(v=-0.0005, grad=0.0000), Var(v=0.0003, grad=0.0000), Var(v=0.0685, grad=0.0000), Var(v=0.0000, grad=0.0000), Var(v=0.0000, grad=0.0000), Var(v=0.0275, grad=0.0000), Var(v=-0.0170, grad=0.0000), Var(v=0.0531, grad=0.0000), Var(v=-0.0017, grad=0.0000), Var(v=-0.0379, grad=0.0000), Var(v=0.0010, grad=0.0000), Var(v=0.0000, grad=0.0000), Var(v=-0.0026, grad=0.0000), Var(v=0.0000, grad=0.0000), Var(v=0.0543, grad=0.0000), Var(v=0.0000, grad=0.0000)]\n",
            "Layer 2 \n",
            " Weights: [[Var(v=-0.1671, grad=0.0000)], [Var(v=-0.0561, grad=0.0000)], [Var(v=-0.0778, grad=0.0000)], [Var(v=-0.0428, grad=0.0000)], [Var(v=0.1129, grad=0.0000)], [Var(v=0.1438, grad=0.0000)], [Var(v=-0.0356, grad=0.0000)], [Var(v=0.2344, grad=0.0000)], [Var(v=-0.1522, grad=0.0000)], [Var(v=0.0036, grad=0.0000)], [Var(v=-0.0390, grad=0.0000)], [Var(v=-0.1024, grad=0.0000)], [Var(v=-0.0296, grad=0.0000)], [Var(v=-0.1295, grad=0.0000)], [Var(v=0.0287, grad=0.0000)], [Var(v=-0.1249, grad=0.0000)], [Var(v=-0.2001, grad=0.0000)], [Var(v=0.0737, grad=0.0000)], [Var(v=-0.0720, grad=0.0000)], [Var(v=-0.0547, grad=0.0000)], [Var(v=-0.0207, grad=0.0000)], [Var(v=0.0950, grad=0.0000)], [Var(v=0.0802, grad=0.0000)], [Var(v=0.0387, grad=0.0000)], [Var(v=0.0300, grad=0.0000)], [Var(v=0.1500, grad=0.0000)], [Var(v=0.0416, grad=0.0000)], [Var(v=0.0377, grad=0.0000)], [Var(v=0.0996, grad=0.0000)], [Var(v=-0.1853, grad=0.0000)], [Var(v=-0.0571, grad=0.0000)], [Var(v=0.0309, grad=0.0000)], [Var(v=0.0344, grad=0.0000)], [Var(v=0.1431, grad=0.0000)], [Var(v=0.0514, grad=0.0000)], [Var(v=0.0019, grad=0.0000)], [Var(v=0.1119, grad=0.0000)], [Var(v=0.0956, grad=0.0000)], [Var(v=-0.0713, grad=0.0000)], [Var(v=-0.0441, grad=0.0000)], [Var(v=-0.0120, grad=0.0000)], [Var(v=0.1264, grad=0.0000)], [Var(v=0.1390, grad=0.0000)], [Var(v=0.0423, grad=0.0000)], [Var(v=-0.0621, grad=0.0000)], [Var(v=-0.0087, grad=0.0000)], [Var(v=0.1914, grad=0.0000)], [Var(v=-0.0399, grad=0.0000)], [Var(v=0.0764, grad=0.0000)], [Var(v=-0.0393, grad=0.0000)]] Biases: [Var(v=-0.0148, grad=0.0000)]\n"
          ]
        },
        {
          "output_type": "execute_result",
          "data": {
            "text/plain": [
              "[None, None, None]"
            ]
          },
          "metadata": {},
          "execution_count": 30
        }
      ],
      "source": [
        "print('Network before update:')\n",
        "[print('Layer', i, '\\n', NN[i]) for i in range(len(NN))]\n",
        "\n",
        "def parameters(network):\n",
        "  params = []\n",
        "  for layer in range(len(network)):\n",
        "    params += network[layer].parameters()\n",
        "  return params\n",
        "\n",
        "def update_parameters(params, learning_rate=0.01):\n",
        "  for p in params:\n",
        "    p.v -= learning_rate*p.grad\n",
        "\n",
        "def zero_gradients(params):\n",
        "  for p in params:\n",
        "    p.grad = 0.0\n",
        "\n",
        "update_parameters(parameters(NN))\n",
        "\n",
        "print('\\nNetwork after update:')\n",
        "[print('Layer', i, '\\n', NN[i]) for i in range(len(NN))]\n",
        "\n",
        "zero_gradients(parameters(NN))\n",
        "\n",
        "print('\\nNetwork after zeroing gradients:')\n",
        "[print('Layer', i, '\\n', NN[i]) for i in range(len(NN))]"
      ]
    },
    {
      "cell_type": "code",
      "execution_count": 75,
      "metadata": {
        "id": "woWYpdw6FtIO"
      },
      "outputs": [],
      "source": [
        "# Initialize an arbitrary neural network\n",
        "NN = [\n",
        "    DenseLayer(1, 8, lambda x: x.relu()),\n",
        "    DenseLayer(8, 1, lambda x: x.identity())\n",
        "]\n",
        "\n",
        "# Recommended hyper-parameters for 3-D:\n",
        "#NN = [\n",
        "#    DenseLayer(3, 16, lambda x: x.relu()),\n",
        "#    DenseLayer(16, 1, lambda x: x.identity())\n",
        "#]\n",
        "\n",
        "\n",
        "### Notice that, when we switch from tanh to relu activation, we decrease the learning rate. This is due the stability of the gradients\n",
        "## of the activation functions."
      ]
    },
    {
      "cell_type": "code",
      "execution_count": 76,
      "metadata": {
        "id": "mdqaqYBVFtIR"
      },
      "outputs": [],
      "source": [
        "# Initialize training hyperparameters\n",
        "EPOCHS = 200\n",
        "LEARN_R = 2e-3"
      ]
    },
    {
      "cell_type": "code",
      "execution_count": 77,
      "metadata": {
        "id": "5kfg76GMFtIW",
        "scrolled": true,
        "colab": {
          "base_uri": "https://localhost:8080/"
        },
        "outputId": "a55fa951-0f5d-4c02-9ddc-aa8d20c04ee3"
      },
      "outputs": [
        {
          "output_type": "stream",
          "name": "stdout",
          "text": [
            "   0 ( 0.00%) Train loss: 10.160 \t Validation loss: 108.418\n",
            "  10 ( 5.00%) Train loss: 9.721 \t Validation loss: 103.748\n",
            "  20 (10.00%) Train loss: 9.343 \t Validation loss: 99.720\n",
            "  30 (15.00%) Train loss: 8.903 \t Validation loss: 95.107\n",
            "  40 (20.00%) Train loss: 8.323 \t Validation loss: 89.087\n",
            "  50 (25.00%) Train loss: 7.534 \t Validation loss: 81.005\n",
            "  60 (30.00%) Train loss: 6.509 \t Validation loss: 70.614\n",
            "  70 (35.00%) Train loss: 5.296 \t Validation loss: 58.420\n",
            "  80 (40.00%) Train loss: 4.039 \t Validation loss: 45.844\n",
            "  90 (45.00%) Train loss: 2.935 \t Validation loss: 34.731\n",
            " 100 (50.00%) Train loss: 2.124 \t Validation loss: 26.373\n",
            " 110 (55.00%) Train loss: 1.619 \t Validation loss: 20.924\n",
            " 120 (60.00%) Train loss: 1.344 \t Validation loss: 17.742\n",
            " 130 (65.00%) Train loss: 1.205 \t Validation loss: 16.023\n",
            " 140 (70.00%) Train loss: 1.136 \t Validation loss: 15.155\n",
            " 150 (75.00%) Train loss: 1.098 \t Validation loss: 14.745\n",
            " 160 (80.00%) Train loss: 1.074 \t Validation loss: 14.582\n",
            " 170 (85.00%) Train loss: 1.057 \t Validation loss: 14.546\n",
            " 180 (90.00%) Train loss: 1.042 \t Validation loss: 14.585\n",
            " 190 (95.00%) Train loss: 1.029 \t Validation loss: 14.666\n"
          ]
        }
      ],
      "source": [
        "train_loss = []\n",
        "val_loss = []\n",
        "\n",
        "## Overfitting\n",
        "y_train_over = y_train[0:10]\n",
        "x_train_over = x_train[0:10]\n",
        "\n",
        "# Choice between overfitting dataset or full dataset\n",
        "# train_input = x_train\n",
        "# train_output = y_train\n",
        "# OR\n",
        "train_input = x_train_over\n",
        "train_output = y_train_over\n",
        "\n",
        "\n",
        "for e in range(EPOCHS):\n",
        "\n",
        "    # Forward pass and loss computation\n",
        "    Loss = squared_loss(train_output, forward(train_input, NN))\n",
        "\n",
        "    # Backward pass\n",
        "    Loss.backward()\n",
        "\n",
        "    # gradient descent update\n",
        "    update_parameters(parameters(NN), LEARN_R)\n",
        "    zero_gradients(parameters(NN))\n",
        "\n",
        "    # Training loss\n",
        "    train_loss.append(Loss.v)\n",
        "\n",
        "    # Validation\n",
        "    Loss_validation = squared_loss(y_validation, forward(x_validation, NN))\n",
        "    val_loss.append(Loss_validation.v)\n",
        "\n",
        "    if e%10==0:\n",
        "        print(\"{:4d}\".format(e),\n",
        "              \"({:5.2f}%)\".format(e/EPOCHS*100),\n",
        "              \"Train loss: {:4.3f} \\t Validation loss: {:4.3f}\".format(train_loss[-1], val_loss[-1]))\n",
        "\n"
      ]
    },
    {
      "cell_type": "code",
      "execution_count": 78,
      "metadata": {
        "id": "VetyRWFwFtIY",
        "colab": {
          "base_uri": "https://localhost:8080/",
          "height": 430
        },
        "outputId": "1eb7b738-bafa-4a84-9d09-cc633edb4ff7"
      },
      "outputs": [
        {
          "output_type": "display_data",
          "data": {
            "text/plain": [
              "<Figure size 640x480 with 1 Axes>"
            ],
            "image/png": "[encoded data removed]"
          },
          "metadata": {}
        }
      ],
      "source": [
        "plt.plot(range(len(train_loss)), train_loss);\n",
        "plt.plot(range(len(val_loss)), val_loss);"
      ]
    },
    {
      "cell_type": "markdown",
      "metadata": {
        "id": "8OgmIrM9FtIb"
      },
      "source": [
        "# Testing\n",
        "\n",
        "We have kept the calculation of the test error separate in order to emphasize that you should not use the test set in optimization."
      ]
    },
    {
      "cell_type": "code",
      "execution_count": 79,
      "metadata": {
        "id": "HmNi7S-vFtIc"
      },
      "outputs": [],
      "source": [
        "output_test = forward(x_test, NN)"
      ]
    },
    {
      "cell_type": "code",
      "execution_count": 80,
      "metadata": {
        "id": "7mmJOTSEFtIf",
        "colab": {
          "base_uri": "https://localhost:8080/",
          "height": 504
        },
        "outputId": "4cd47d8a-538f-4b94-e3bb-728ed028ed00"
      },
      "outputs": [
        {
          "output_type": "stream",
          "name": "stdout",
          "text": [
            "Test loss:  16.651\n"
          ]
        },
        {
          "output_type": "display_data",
          "data": {
            "text/plain": [
              "<Figure size 640x480 with 1 Axes>"
            ],
            "image/png": "[encoded data removed]"
          },
          "metadata": {}
        }
      ],
      "source": [
        "y_test_np = Var_to_nparray(y_test)\n",
        "plt.scatter(y_test_np, Var_to_nparray(output_test));\n",
        "plt.plot([np.min(y_test_np), np.max(y_test_np)], [np.min(y_test_np), np.max(y_test_np)], color='k');\n",
        "plt.xlabel(\"y\");\n",
        "plt.ylabel(\"$\\hat{y}$\");\n",
        "plt.title(\"Model prediction vs real in the test set, the close to the line the better\")\n",
        "plt.grid(True);\n",
        "plt.axis('equal');\n",
        "plt.tight_layout();\n",
        "\n",
        "Loss_test = squared_loss(y_test, forward(x_test, NN))\n",
        "\n",
        "print(\"Test loss:  {:4.3f}\".format(Loss_test.v))"
      ]
    },
    {
      "cell_type": "code",
      "execution_count": 84,
      "metadata": {
        "id": "ODi0WlmQFtIh",
        "colab": {
          "base_uri": "https://localhost:8080/",
          "height": 449
        },
        "outputId": "2d2c5764-7842-48fd-ba4a-60e2a25d425c"
      },
      "outputs": [
        {
          "output_type": "display_data",
          "data": {
            "text/plain": [
              "<Figure size 640x480 with 1 Axes>"
            ],
            "image/png": "[encoded data removed]"
          },
          "metadata": {}
        }
      ],
      "source": [
        "x_test_np = Var_to_nparray(x_test)\n",
        "x_train_np = Var_to_nparray(train_input)\n",
        "y_train_np = Var_to_nparray(train_output)\n",
        "if D1:\n",
        "    plt.scatter(x_train_np, y_train_np, label=\"train data\");\n",
        "    plt.scatter(x_test_np, Var_to_nparray(output_test), label=\"test prediction\");\n",
        "    plt.scatter(x_test_np, y_test_np, label=\"test data\");\n",
        "    plt.legend();\n",
        "    plt.xlabel(\"x\");\n",
        "    plt.ylabel(\"y\");\n",
        "else:\n",
        "    plt.scatter(x_train_np[:,1], y_train, label=\"train data\");\n",
        "    plt.scatter(x_test_np[:,1], Var_to_nparray(output_test), label=\"test data prediction\");\n",
        "    plt.scatter(x_test_np[:,1], y_test_np, label=\"test data\");\n",
        "    plt.legend();\n",
        "    plt.xlabel(\"x\");\n",
        "    plt.ylabel(\"y\");"
      ]
    },
    {
      "cell_type": "markdown",
      "metadata": {
        "id": "zTBAmjsAFtIk"
      },
      "source": [
        "## Exercise l) Show overfitting, underfitting and just right fitting\n",
        "\n",
        "Vary the architecture and other things to show clear signs of overfitting (=training loss significantly lower than test loss) and underfitting (=not fitting enoung to training data so that test performance is also hurt).\n",
        "\n",
        "See also if you can get a good compromise which leads to a low validation loss.\n",
        "\n",
        "For this problem do you see any big difference between validation and test loss? The answer here will probably be no. Discuss cases where it is important to keep the two separate.\n",
        "\n",
        "_Insert written answer here._\n"
      ]
    },
    {
      "cell_type": "code",
      "execution_count": 85,
      "metadata": {
        "id": "tQZCn2dxFtIl"
      },
      "outputs": [],
      "source": [
        "# Insert your code for getting overfitting, underfitting and just right fitting\n",
        "\n",
        "# In order to get overfitting we use the standard parameters, but limit the training data to a small subset\n",
        "NN = [\n",
        "    DenseLayer(1, 8, lambda x: x.relu()),\n",
        "    DenseLayer(8, 1, lambda x: x.identity())\n",
        "]\n",
        "EPOCHS = 200\n",
        "LEARN_R = 2e-3\n",
        "y_train_over = y_train[0:10]\n",
        "x_train_over = x_train[0:10]\n",
        "train_input = x_train\n",
        "train_output = y_train\n",
        "\n",
        "# In order to get underfitting, we simply limit the number of epochs\n",
        "NN = [\n",
        "    DenseLayer(1, 8, lambda x: x.relu()),\n",
        "    DenseLayer(8, 1, lambda x: x.identity())\n",
        "]\n",
        "EPOCHS = 20\n",
        "LEARN_R = 2e-3\n",
        "train_output= y_train\n",
        "train_input = x_train\n",
        "\n",
        "# For good fitting, we keep them as original\n",
        "NN = [\n",
        "    DenseLayer(1, 8, lambda x: x.relu()),\n",
        "    DenseLayer(8, 1, lambda x: x.identity())\n",
        "]\n",
        "EPOCHS = 200\n",
        "LEARN_R = 2e-3\n",
        "train_output= y_train\n",
        "train_input = x_train"
      ]
    },
    {
      "cell_type": "markdown",
      "metadata": {
        "id": "fYPZP-eTFtIo"
      },
      "source": [
        "# Next steps - classification\n",
        "\n",
        "It is straight forward to extend what we have done to classification.\n",
        "\n",
        "For numerical stability it is better to make softmax and cross-entropy as one function so we write the cross entropy loss as a function of the logits we talked about last week.\n",
        "\n",
        "Next week we will see how to perform classification in PyTorch."
      ]
    },
    {
      "cell_type": "markdown",
      "metadata": {
        "id": "qsVPul3QFtIo"
      },
      "source": [
        "## Exercise m) optional - Implement backpropagation for classification\n",
        "\n",
        "Should be possible with very few lines of code. :-)"
      ]
    },
    {
      "cell_type": "code",
      "execution_count": null,
      "metadata": {
        "id": "oC8QrI2tFtIp"
      },
      "outputs": [],
      "source": [
        "# Just add code."
      ]
    },
    {
      "cell_type": "markdown",
      "metadata": {
        "id": "APqhJv3tta1O"
      },
      "source": [
        "## Exercise n) optional - Introduce a NeuralNetwork class\n",
        "\n",
        "The functions we applied on the neural network (parameters, update_parameters and zero_gradients) can more naturally be included as methods in a NeuralNetwork class. Make such a class and modify the code to use it."
      ]
    },
    {
      "cell_type": "code",
      "execution_count": null,
      "metadata": {
        "id": "Dqfnor1ouMLq"
      },
      "outputs": [],
      "source": [
        "# just add some code"
      ]
    }
  ],
  "metadata": {
    "anaconda-cloud": {},
    "colab": {
      "collapsed_sections": [
        "jpIZPBpNI0pO"
      ],
      "provenance": [],
      "include_colab_link": true
    },
    "kernelspec": {
      "display_name": "Python 3",
      "language": "python",
      "name": "python3"
    },
    "language_info": {
      "codemirror_mode": {
        "name": "ipython",
        "version": 3
      },
      "file_extension": ".py",
      "mimetype": "text/x-python",
      "name": "python",
      "nbconvert_exporter": "python",
      "pygments_lexer": "ipython3",
      "version": "3.9.12"
    }
  },
  "nbformat": 4,
  "nbformat_minor": 0
}